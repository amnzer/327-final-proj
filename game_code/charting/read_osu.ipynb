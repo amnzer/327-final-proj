{
 "cells": [
  {
   "cell_type": "markdown",
   "id": "a33a4d72",
   "metadata": {},
   "source": [
    "# Convert Osu to Beet Saber"
   ]
  },
  {
   "cell_type": "markdown",
   "id": "bc62ada0",
   "metadata": {},
   "source": [
    "## 1. Convert .osz to .osu"
   ]
  },
  {
   "cell_type": "code",
   "execution_count": 2,
   "id": "31893b89",
   "metadata": {},
   "outputs": [],
   "source": [
    "# find install dir\n",
    "import os\n",
    "import zipfile"
   ]
  },
  {
   "cell_type": "code",
   "execution_count": 3,
   "id": "a1996fb8",
   "metadata": {},
   "outputs": [],
   "source": [
    "osz_path = '/Users/donu/Desktop/S25/ELEC 327/327-final-proj/oszs/'\n",
    "unzip_path = '/Users/donu/Desktop/S25/ELEC 327/327-final-proj/oszs/charts/'"
   ]
  },
  {
   "cell_type": "code",
   "execution_count": 4,
   "id": "7170a204",
   "metadata": {},
   "outputs": [
    {
     "data": {
      "text/plain": [
       "['/Users/donu/Desktop/S25/ELEC 327/327-final-proj/oszs/killing-my-love.osz',\n",
       " '/Users/donu/Desktop/S25/ELEC 327/327-final-proj/oszs/ETA.osz',\n",
       " '/Users/donu/Desktop/S25/ELEC 327/327-final-proj/oszs/stupid-horse.osz',\n",
       " '/Users/donu/Desktop/S25/ELEC 327/327-final-proj/oszs/lovenote.osz',\n",
       " '/Users/donu/Desktop/S25/ELEC 327/327-final-proj/oszs/duvet.osz',\n",
       " '/Users/donu/Desktop/S25/ELEC 327/327-final-proj/oszs/running-man.osz']"
      ]
     },
     "execution_count": 4,
     "metadata": {},
     "output_type": "execute_result"
    }
   ],
   "source": [
    "# find all osu zips\n",
    "oszs = [osz_path+x for x in os.listdir(osz_path) if x.endswith('osz')]\n",
    "oszs"
   ]
  },
  {
   "cell_type": "code",
   "execution_count": 5,
   "id": "a592db79",
   "metadata": {},
   "outputs": [],
   "source": [
    "def retain_file(filepath):\n",
    "  \"\"\"Returns if file should be kept\n",
    "  At time of writing, keeps osu metadata files and mp3 files\n",
    "  (wav files are used only for hitsounds (irrelevant))\"\"\"\n",
    "  if not (filepath.endswith('osu') or filepath.endswith('mp3')):\n",
    "    return False\n",
    "  return True"
   ]
  },
  {
   "cell_type": "code",
   "execution_count": null,
   "id": "ad82cfa3",
   "metadata": {},
   "outputs": [],
   "source": [
    "def keep_file(filepath):\n",
    "  \"\"\"\n",
    "  Tells which files should be kept\n",
    "  \"\"\"\n",
    "  checks = ['easy' in filepath.lower(),\n",
    "            'normal' in filepath.lower(),\n",
    "            'hard' in filepath.lower(),\n",
    "            'insane' in filepath.lower(),\n",
    "            'extra' in filepath.lower(),\n",
    "            'expert' in filepath.lower(),\n",
    "            'audio.mp3' in filepath,\n",
    "            ]\n",
    "  # !impt: taiko diffs are like so: kantan, futsuu, muzukashii, oni\n",
    "  \n",
    "  return ((True in checks) and ('.wav' not in filepath))"
   ]
  },
  {
   "cell_type": "code",
   "execution_count": 7,
   "id": "d88ea76c",
   "metadata": {},
   "outputs": [],
   "source": [
    "# unzip them. how?\n",
    "# # make dir per song\n",
    "# # retain metadata and audio\n",
    "os.makedirs(unzip_path, exist_ok=True)\n",
    "for osz in oszs:\n",
    "  songname = osz.split('/')[-1].split('.')[0]\n",
    "  save_path = unzip_path+songname+'/'\n",
    "  with zipfile.ZipFile(osz, 'r') as zip_ref:\n",
    "    zip_ref.extractall(save_path)\n",
    "\n",
    "# delete unneeded files:\n",
    "# # subdirs is minimal directory paths (e.g. killing-my-love, duvet w.o. abspath)\n",
    "subdirs = [entry for entry in os.listdir(unzip_path) if os.path.isdir(os.path.join(unzip_path, entry))]\n",
    "for subdir in subdirs:\n",
    "  dirpath = os.path.join(unzip_path,subdir)\n",
    "  for file in os.listdir(dirpath):\n",
    "    if not keep_file(file):\n",
    "      os.remove(os.path.join(dirpath,file))"
   ]
  },
  {
   "cell_type": "markdown",
   "id": "538f3fdc",
   "metadata": {},
   "source": [
    "## 2. Extract Hit Objects from .osu"
   ]
  },
  {
   "cell_type": "code",
   "execution_count": null,
   "id": "74db52a3",
   "metadata": {},
   "outputs": [],
   "source": [
    "# wiki is extremely well documented\n",
    "# # https://osu.ppy.sh/wiki/en/Client/File_formats/osu_%28file_format%29#type:~:text=Slider%20border%20colour-,Hit%20objects,-Hit%20object%20syntax"
   ]
  },
  {
   "cell_type": "code",
   "execution_count": 8,
   "id": "ae098d03",
   "metadata": {},
   "outputs": [],
   "source": [
    "example_song = os.path.join(unzip_path,'lovenote')"
   ]
  },
  {
   "cell_type": "code",
   "execution_count": 11,
   "id": "302bc637",
   "metadata": {},
   "outputs": [
    {
     "data": {
      "text/plain": [
       "['audio.mp3']"
      ]
     },
     "execution_count": 11,
     "metadata": {},
     "output_type": "execute_result"
    }
   ],
   "source": [
    "example_osu_dir = os.listdir(example_song)\n",
    "example_osu_dir"
   ]
  },
  {
   "cell_type": "code",
   "execution_count": null,
   "id": "4e92603f",
   "metadata": {},
   "outputs": [],
   "source": [
    "example_osu #= example_osu_dir[2]"
   ]
  },
  {
   "cell_type": "code",
   "execution_count": 150,
   "id": "cd98b0ed",
   "metadata": {},
   "outputs": [],
   "source": [
    "def classify_object(flag):\n",
    "  \"\"\"\n",
    "  Derive object type from osu's binary flags\n",
    "  \n",
    "  Simplied representation:\n",
    "  - 'circle'\n",
    "  - 'slider'\n",
    "  - 'spinner'\n",
    "  \n",
    "  \"\"\"\n",
    "  # 0 bit indiates slider\n",
    "  circle = (flag & 1) != 0 # check neq 0 not eq 1 b/c bit shift\n",
    "  slider = (flag & 1<<1) != 0\n",
    "  spinner = (flag & 1<<3) != 0\n",
    "  \n",
    "  if circle+slider+spinner>1:\n",
    "    print(\"Whaaat\")\n",
    "  if circle: \n",
    "    return 'circle'\n",
    "  if slider: \n",
    "    return 'slider'\n",
    "  if spinner: \n",
    "    return 'spinner'\n",
    "  print(f\"Something is wrong in object classification. Recieved flag: {flag}\")\n",
    "  return None"
   ]
  },
  {
   "cell_type": "code",
   "execution_count": 151,
   "id": "8aec43c4",
   "metadata": {},
   "outputs": [],
   "source": [
    "def extract_hit_objects(osu_path):\n",
    "  \"\"\"\n",
    "  Find type information and timing data for all hit objects contained in an .osu file\n",
    "  \"\"\"\n",
    "  start_str = '[HitObjects]'\n",
    "  #csv_fields = 'x,y,time,type,hitSound,objectParams,hitSample'.split(',') # from the wiki\n",
    "  note_types = []\n",
    "  note_times = []\n",
    "  with open(osu_path, 'r') as map_file:\n",
    "    content = map_file.read()\n",
    "    #print(content.find(start_str))\n",
    "    # see csv_fields comment for how hit objects are parameterized\n",
    "    hit_objects = content[content.find(start_str)+len(start_str)+1:].split('\\n') # extract hit objects\n",
    "    #print(len(hit_objects))\n",
    "    # for now, just time and circle/slider class\n",
    "    for hit_object in hit_objects:\n",
    "      if len(hit_object)>5: # there will always be at least 6 params\n",
    "        hit_object_fields = hit_object.split(',')\n",
    "        #print(hit_object_fields)\n",
    "        ms, note_type = hit_object_fields[2],hit_object_fields[3]\n",
    "        note_types.append(classify_object(int(note_type)))\n",
    "        note_times.append(int(ms))\n",
    "  return zip(note_types,note_times)\n",
    "  #return pd.read_csv(content)#,usecols=csv_fields)"
   ]
  },
  {
   "cell_type": "code",
   "execution_count": 152,
   "id": "9c0bbc93",
   "metadata": {},
   "outputs": [],
   "source": [
    "hitobjs = extract_hit_objects(\"/Users/donu/Desktop/S25/ELEC 327/327-final-proj/oszs/charts/running-man/Cityyy - Running Man (Astronic) [-Tynamo's Extra].osu\")"
   ]
  },
  {
   "cell_type": "code",
   "execution_count": null,
   "id": "685eae1f",
   "metadata": {},
   "outputs": [],
   "source": [
    "# type conversion\n",
    "for i in hitobjs:\n",
    "  print(i)\n",
    "  break\n",
    "# "
   ]
  }
 ],
 "metadata": {
  "kernelspec": {
   "display_name": "base",
   "language": "python",
   "name": "python3"
  },
  "language_info": {
   "codemirror_mode": {
    "name": "ipython",
    "version": 3
   },
   "file_extension": ".py",
   "mimetype": "text/x-python",
   "name": "python",
   "nbconvert_exporter": "python",
   "pygments_lexer": "ipython3",
   "version": "3.11.8"
  }
 },
 "nbformat": 4,
 "nbformat_minor": 5
}
