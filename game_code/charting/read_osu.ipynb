{
 "cells": [
  {
   "cell_type": "markdown",
   "id": "a33a4d72",
   "metadata": {},
   "source": [
    "# Convert Osu to Beet Saber"
   ]
  },
  {
   "cell_type": "markdown",
   "id": "bc62ada0",
   "metadata": {},
   "source": [
    "## 1. Convert .osz to .osu"
   ]
  },
  {
   "cell_type": "code",
   "execution_count": 1,
   "id": "31893b89",
   "metadata": {},
   "outputs": [],
   "source": [
    "# find install dir\n",
    "import os\n",
    "import zipfile"
   ]
  },
  {
   "cell_type": "code",
   "execution_count": 2,
   "id": "a1996fb8",
   "metadata": {},
   "outputs": [],
   "source": [
    "osz_path = '/Users/donu/Desktop/S25/ELEC 327/327-final-proj/oszs/'\n",
    "unzip_path = '/Users/donu/Desktop/S25/ELEC 327/327-final-proj/oszs/charts/'"
   ]
  },
  {
   "cell_type": "code",
   "execution_count": 3,
   "id": "7170a204",
   "metadata": {},
   "outputs": [
    {
     "data": {
      "text/plain": [
       "['/Users/donu/Desktop/S25/ELEC 327/327-final-proj/oszs/killing-my-love.osz',\n",
       " '/Users/donu/Desktop/S25/ELEC 327/327-final-proj/oszs/ETA.osz',\n",
       " '/Users/donu/Desktop/S25/ELEC 327/327-final-proj/oszs/stupid-horse.osz',\n",
       " '/Users/donu/Desktop/S25/ELEC 327/327-final-proj/oszs/duvet.osz',\n",
       " '/Users/donu/Desktop/S25/ELEC 327/327-final-proj/oszs/running-man.osz']"
      ]
     },
     "execution_count": 3,
     "metadata": {},
     "output_type": "execute_result"
    }
   ],
   "source": [
    "# find all osu zips\n",
    "oszs = [osz_path+x for x in os.listdir(osz_path) if x.endswith('osz')]\n",
    "oszs"
   ]
  },
  {
   "cell_type": "code",
   "execution_count": 4,
   "id": "a592db79",
   "metadata": {},
   "outputs": [],
   "source": [
    "def retain_file(filepath):\n",
    "  \"\"\"Returns if file should be kept\n",
    "  At time of writing, keeps osu metadata files and mp3 files\n",
    "  (wav files are used only for hitsounds (irrelevant))\"\"\"\n",
    "  if not (filepath.endswith('osu') or filepath.endswith('mp3')):\n",
    "    return False\n",
    "  return True"
   ]
  },
  {
   "cell_type": "code",
   "execution_count": 5,
   "id": "ad82cfa3",
   "metadata": {},
   "outputs": [],
   "source": [
    "def keep_file(filepath):\n",
    "  \"\"\"\n",
    "  Tells which files should be kept\n",
    "  \"\"\"\n",
    "  checks = ['easy' in filepath.lower(),\n",
    "            'normal' in filepath.lower(),\n",
    "            'hard' in filepath.lower(),\n",
    "            'insane' in filepath.lower(),\n",
    "            'extra' in filepath.lower(),\n",
    "            'expert' in filepath.lower(),\n",
    "            'audio.mp3' in filepath,\n",
    "            ]\n",
    "  # !impt: taiko diffs are like so: kantan, futsuu, muzukashii, oni\n",
    "  \n",
    "  return ((True in checks) and ('.wav' not in filepath))"
   ]
  },
  {
   "cell_type": "code",
   "execution_count": 6,
   "id": "d88ea76c",
   "metadata": {},
   "outputs": [],
   "source": [
    "# unzip them. how?\n",
    "# # make dir per song\n",
    "# # retain metadata and audio\n",
    "os.makedirs(unzip_path, exist_ok=True)\n",
    "for osz in oszs:\n",
    "  songname = osz.split('/')[-1].split('.')[0]\n",
    "  save_path = unzip_path+songname+'/'\n",
    "  with zipfile.ZipFile(osz, 'r') as zip_ref:\n",
    "    zip_ref.extractall(save_path)\n",
    "\n",
    "# delete unneeded files:\n",
    "# # subdirs is minimal directory paths (e.g. killing-my-love, duvet w.o. abspath)\n",
    "subdirs = [entry for entry in os.listdir(unzip_path) if os.path.isdir(os.path.join(unzip_path, entry))]\n",
    "for subdir in subdirs:\n",
    "  dirpath = os.path.join(unzip_path,subdir)\n",
    "  for file in os.listdir(dirpath):\n",
    "    if not keep_file(file):\n",
    "      os.remove(os.path.join(dirpath,file))"
   ]
  },
  {
   "cell_type": "markdown",
   "id": "538f3fdc",
   "metadata": {},
   "source": [
    "## 2. Extract Hit Objects from .osu"
   ]
  },
  {
   "cell_type": "code",
   "execution_count": 7,
   "id": "74db52a3",
   "metadata": {},
   "outputs": [],
   "source": [
    "# wiki is extremely well documented\n",
    "# # https://osu.ppy.sh/wiki/en/Client/File_formats/osu_%28file_format%29#type:~:text=Slider%20border%20colour-,Hit%20objects,-Hit%20object%20syntax"
   ]
  },
  {
   "cell_type": "code",
   "execution_count": 8,
   "id": "ae098d03",
   "metadata": {},
   "outputs": [],
   "source": [
    "example_song = os.path.join(unzip_path,'lovenote')"
   ]
  },
  {
   "cell_type": "code",
   "execution_count": 9,
   "id": "302bc637",
   "metadata": {},
   "outputs": [
    {
     "data": {
      "text/plain": [
       "['audio.mp3']"
      ]
     },
     "execution_count": 9,
     "metadata": {},
     "output_type": "execute_result"
    }
   ],
   "source": [
    "example_osu_dir = os.listdir(example_song)\n",
    "example_osu_dir"
   ]
  },
  {
   "cell_type": "code",
   "execution_count": 10,
   "id": "4e92603f",
   "metadata": {},
   "outputs": [],
   "source": [
    "#example_osu #= example_osu_dir[2]"
   ]
  },
  {
   "cell_type": "code",
   "execution_count": 11,
   "id": "cd98b0ed",
   "metadata": {},
   "outputs": [],
   "source": [
    "def classify_object(flag):\n",
    "  \"\"\"\n",
    "  Derive object type from osu's binary flags\n",
    "  \n",
    "  Simplied representation:\n",
    "  - 'circle'\n",
    "  - 'slider'\n",
    "  - 'spinner'\n",
    "  \n",
    "  \"\"\"\n",
    "  # 0 bit indiates slider\n",
    "  circle = (flag & 1) != 0 # check neq 0 not eq 1 b/c bit shift\n",
    "  slider = (flag & 1<<1) != 0\n",
    "  spinner = (flag & 1<<3) != 0\n",
    "  \n",
    "  if circle+slider+spinner>1:\n",
    "    print(\"Whaaat\")\n",
    "  if circle: \n",
    "    return 'circle'\n",
    "  if slider: \n",
    "    return 'slider'\n",
    "  if spinner: \n",
    "    return 'spinner'\n",
    "  print(f\"Something is wrong in object classification. Recieved flag: {flag}\")\n",
    "  return None"
   ]
  },
  {
   "cell_type": "markdown",
   "id": "87ae4d1f",
   "metadata": {},
   "source": [
    "A quick note about taiko. Besides naming convention for difficulties, taiko and osu!std objects are stored identically. hype"
   ]
  },
  {
   "cell_type": "code",
   "execution_count": 66,
   "id": "8aec43c4",
   "metadata": {},
   "outputs": [],
   "source": [
    "def extract_hit_objects(osu_path, just_ints = False):\n",
    "  \"\"\"\n",
    "  Find type information and timing data for all hit objects contained in an .osu file\n",
    "  \n",
    "  Inputs:\n",
    "  - osu_path: path to osu metadata file\n",
    "  \n",
    "  Returns three zipped arrays\n",
    "  - note_types: Array of 'slider', 'spinner' and 'circle' strings\n",
    "  - note_times: Array of integers, representing time in ms when note appears (relative to song start)\n",
    "  - note_ints: Array of 32 bit integers written in hex containing relevant note info. See game_code/notes.md for more info\n",
    "  \"\"\"\n",
    "  start_str = '[HitObjects]'\n",
    "  #csv_fields = 'x,y,time,type,hitSound,objectParams,hitSample'.split(',') # from the wiki\n",
    "  note_types = []\n",
    "  note_times = []\n",
    "  note_ints = []\n",
    "  with open(osu_path, 'r') as map_file:\n",
    "    content = map_file.read()\n",
    "    #print(content.find(start_str))\n",
    "    # see csv_fields comment for how hit objects are parameterized\n",
    "    hit_objects = content[content.find(start_str)+len(start_str)+1:].split('\\n') # extract hit objects\n",
    "    #print(len(hit_objects))\n",
    "    # for now, just time and circle/slider class\n",
    "    for hit_object in hit_objects:\n",
    "      if len(hit_object)>5: # there will always be at least 6 params\n",
    "        hit_object_fields = hit_object.split(',')\n",
    "        #print(hit_object_fields)\n",
    "        ms, note_type = hit_object_fields[2],hit_object_fields[3]\n",
    "        note_types.append(classify_object(int(note_type)))\n",
    "        note_times.append(int(ms))\n",
    "  # creating note_ints\n",
    "  for i in range(len(note_types)):\n",
    "    # !impt\n",
    "    has_been_hit = 0\n",
    "    channel = 0 # 0=L, 1=R\n",
    "    has_repeat_slider = 0\n",
    "    \n",
    "    has_slider = note_types[i]=='slider'\n",
    "    has_spinner = note_types[i]=='spinner'\n",
    "    has_circle = note_types[i]=='circle'\n",
    "\n",
    "    combined_int = has_been_hit<<31 | channel<<30| has_spinner<<29 | has_repeat_slider | has_slider<< 27 | has_circle<<26 | note_times[i]\n",
    "\n",
    "    binary_int = bin(combined_int)[2:].zfill(32)\n",
    "    #print(binary_int)\n",
    "    hex_int_blocks = []\n",
    "    for i in range(8):\n",
    "      bin4 = binary_int[4*i:4*i+4]\n",
    "      hex_int_blocks.append(hex(int('0b'+bin4,2))[2:])\n",
    "    hex_int = '0x'+''.join(hex_int_blocks)\n",
    "    #print(hex_int)\n",
    "    note_ints.append(hex_int)\n",
    "  if just_ints: # programming sin tbh\n",
    "    return note_ints\n",
    "  return list(zip(note_types,note_times,note_ints))\n",
    "  #return pd.read_csv(content)#,usecols=csv_fields)"
   ]
  },
  {
   "cell_type": "code",
   "execution_count": 67,
   "id": "9c0bbc93",
   "metadata": {},
   "outputs": [],
   "source": [
    "song = \"/Users/donu/Desktop/S25/ELEC 327/327-final-proj/oszs/charts/killing-my-love/LESLIE PARRISH - KILLING MY LOVE (Cut Ver.) (Pincus) [Pepekcz's Hard Ryosuke's RX-7 FC].osu\"\n",
    "hitobjs = extract_hit_objects(song)"
   ]
  },
  {
   "cell_type": "code",
   "execution_count": 63,
   "id": "685eae1f",
   "metadata": {},
   "outputs": [
    {
     "name": "stdout",
     "output_type": "stream",
     "text": [
      "328\n",
      "('slider', 1675, '0x0800068b')\n"
     ]
    }
   ],
   "source": [
    "# type conversion\n",
    "print(len(hitobjs))\n",
    "for i in hitobjs:\n",
    "  print(i)\n",
    "  break\n"
   ]
  },
  {
   "cell_type": "code",
   "execution_count": 64,
   "id": "85b96aed",
   "metadata": {},
   "outputs": [
    {
     "data": {
      "text/plain": [
       "True"
      ]
     },
     "execution_count": 64,
     "metadata": {},
     "output_type": "execute_result"
    }
   ],
   "source": [
    "# test deciphering\n",
    "correct = 0\n",
    "for a,b,number in hitobjs:\n",
    "  get_position = int('0b'+'1'*20,2)\n",
    "  number_bin = int(number,16)\n",
    "  correct += (get_position&number_bin)==b\n",
    "correct==len(hitobjs) #if true all good"
   ]
  },
  {
   "cell_type": "code",
   "execution_count": 75,
   "id": "c17dd5a4",
   "metadata": {},
   "outputs": [],
   "source": [
    "to_c_string = lambda x: '{'+', '.join(x)+'}'"
   ]
  },
  {
   "cell_type": "code",
   "execution_count": null,
   "id": "51c9ed8e",
   "metadata": {},
   "outputs": [],
   "source": [
    "# !impt: where you extract hit objects\n",
    "duvet_path_easy = '../../oszs/charts/duvet/boa - Duvet (TV Size) (Girls Love) [Easy].osu' \n",
    "eta_path_normal = \"../../oszs/charts/ETA/NewJeans - ETA (bielsuu) [miss yo's Normal].osu\"\n",
    "killing_my_love_normal = \"../../oszs/charts/LESLIE PARRISH - KILLING MY LOVE (Cut Ver.) (Pincus) [Kirishima-'s Normal Bunta's Impreza].osu\""
   ]
  },
  {
   "cell_type": "code",
   "execution_count": null,
   "id": "8783b6e0",
   "metadata": {},
   "outputs": [],
   "source": [
    "# add more songs as needed\n",
    "hitobjs_boa = extract_hit_objects(duvet_path_easy, just_ints=True)\n",
    "hitobjs_eta = extract_hit_objects(eta_path_normal, just_ints=True)\n",
    "killing_my_love_normal = extract_hit_objects(eta_path_normal, just_ints=True)\n",
    "# the results\n",
    "boa_res = to_c_string(hitobjs_boa)\n",
    "eta_res = to_c_string(hitobjs_eta)\n",
    "killing_my_love_res = to_c_string(killing_my_love_normal) "
   ]
  }
 ],
 "metadata": {
  "kernelspec": {
   "display_name": "base",
   "language": "python",
   "name": "python3"
  },
  "language_info": {
   "codemirror_mode": {
    "name": "ipython",
    "version": 3
   },
   "file_extension": ".py",
   "mimetype": "text/x-python",
   "name": "python",
   "nbconvert_exporter": "python",
   "pygments_lexer": "ipython3",
   "version": "3.11.8"
  }
 },
 "nbformat": 4,
 "nbformat_minor": 5
}
