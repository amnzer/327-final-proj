{
 "cells": [
  {
   "cell_type": "markdown",
   "id": "a33a4d72",
   "metadata": {},
   "source": [
    "# Convert Osu to Beet Saber"
   ]
  },
  {
   "cell_type": "code",
   "execution_count": 14,
   "id": "31893b89",
   "metadata": {},
   "outputs": [],
   "source": [
    "# find install dir\n",
    "import os\n",
    "import zipfile"
   ]
  },
  {
   "cell_type": "code",
   "execution_count": 11,
   "id": "a1996fb8",
   "metadata": {},
   "outputs": [],
   "source": [
    "osz_path = '/Users/donu/Desktop/S25/ELEC 327/327-final-proj/oszs/'\n",
    "unzip_path = '/Users/donu/Desktop/S25/ELEC 327/327-final-proj/oszs/charts/'"
   ]
  },
  {
   "cell_type": "code",
   "execution_count": 16,
   "id": "7170a204",
   "metadata": {},
   "outputs": [
    {
     "data": {
      "text/plain": [
       "['/Users/donu/Desktop/S25/ELEC 327/327-final-proj/oszs/killing-my-love.osz',\n",
       " '/Users/donu/Desktop/S25/ELEC 327/327-final-proj/oszs/duvet.osz',\n",
       " '/Users/donu/Desktop/S25/ELEC 327/327-final-proj/oszs/running-man.osz']"
      ]
     },
     "execution_count": 16,
     "metadata": {},
     "output_type": "execute_result"
    }
   ],
   "source": [
    "# find all osu zips\n",
    "oszs = [osz_path+x for x in os.listdir(osz_path) if x.endswith('osz')]\n",
    "oszs"
   ]
  },
  {
   "cell_type": "code",
   "execution_count": 20,
   "id": "a592db79",
   "metadata": {},
   "outputs": [],
   "source": [
    "def retain_file(filepath):\n",
    "  \"\"\"Returns if file should be kept\n",
    "  At time of writing, keeps osu metadata files and mp3 files\n",
    "  (wav files are used only for hitsounds (irrelevant))\"\"\"\n",
    "  if not (filepath.endswith('osu') or filepath.endswith('mp3')):\n",
    "    return False\n",
    "  return True"
   ]
  },
  {
   "cell_type": "code",
   "execution_count": 55,
   "id": "ad82cfa3",
   "metadata": {},
   "outputs": [],
   "source": [
    "def keep_file(filepath):\n",
    "  \"\"\"\n",
    "  Tells which files should be kept\n",
    "  \"\"\"\n",
    "  checks = ['easy' in filepath.lower(),\n",
    "            'normal' in filepath.lower(),\n",
    "            'hard' in filepath.lower(),\n",
    "            'insane' in filepath.lower(),\n",
    "            'extra' in filepath.lower(),\n",
    "            'expert' in filepath.lower(),\n",
    "            'audio.mp3' in filepath,\n",
    "            ]\n",
    "  \n",
    "  return ((True in checks) and ('.wav' not in filepath))"
   ]
  },
  {
   "cell_type": "code",
   "execution_count": 56,
   "id": "d88ea76c",
   "metadata": {},
   "outputs": [],
   "source": [
    "# unzip them. how?\n",
    "# # make dir per song\n",
    "# # retain metadata and audio\n",
    "os.makedirs(unzip_path, exist_ok=True)\n",
    "for osz in oszs:\n",
    "  songname = osz.split('/')[-1].split('.')[0]\n",
    "  save_path = unzip_path+songname+'/'\n",
    "  with zipfile.ZipFile(osz, 'r') as zip_ref:\n",
    "    zip_ref.extractall(save_path)\n",
    "# delete unneeded files:\n",
    "subdirs = [entry for entry in os.listdir(unzip_path) if os.path.isdir(os.path.join(unzip_path, entry))]\n",
    "for subdir in subdirs:\n",
    "  dirpath = os.path.join(unzip_path,subdir)\n",
    "  for file in os.listdir(dirpath):\n",
    "    if not keep_file(file):\n",
    "      os.remove(os.path.join(dirpath,file))"
   ]
  },
  {
   "cell_type": "code",
   "execution_count": null,
   "id": "b873a832",
   "metadata": {},
   "outputs": [],
   "source": []
  }
 ],
 "metadata": {
  "kernelspec": {
   "display_name": "base",
   "language": "python",
   "name": "python3"
  },
  "language_info": {
   "codemirror_mode": {
    "name": "ipython",
    "version": 3
   },
   "file_extension": ".py",
   "mimetype": "text/x-python",
   "name": "python",
   "nbconvert_exporter": "python",
   "pygments_lexer": "ipython3",
   "version": "3.11.8"
  }
 },
 "nbformat": 4,
 "nbformat_minor": 5
}
