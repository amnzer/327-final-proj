{
 "cells": [
  {
   "cell_type": "markdown",
   "id": "a33a4d72",
   "metadata": {},
   "source": [
    "# Convert Osu to Beet Saber"
   ]
  },
  {
   "cell_type": "markdown",
   "id": "bc62ada0",
   "metadata": {},
   "source": [
    "## 1. Convert .osz to .osu"
   ]
  },
  {
   "cell_type": "code",
   "execution_count": 1,
   "id": "31893b89",
   "metadata": {},
   "outputs": [],
   "source": [
    "# find install dir\n",
    "import os\n",
    "import zipfile"
   ]
  },
  {
   "cell_type": "code",
   "execution_count": 18,
   "id": "a1996fb8",
   "metadata": {},
   "outputs": [],
   "source": [
    "osz_path = '../../oszs/'\n",
    "unzip_path = '../../oszs/charts/'"
   ]
  },
  {
   "cell_type": "code",
   "execution_count": 19,
   "id": "7170a204",
   "metadata": {},
   "outputs": [
    {
     "data": {
      "text/plain": [
       "['../../oszs/fubuki.osz',\n",
       " '../../oszs/killing-my-love.osz',\n",
       " '../../oszs/reality-surf.osz',\n",
       " '../../oszs/ETA.osz',\n",
       " '../../oszs/rockefeller-st.osz',\n",
       " '../../oszs/stupid-horse.osz',\n",
       " '../../oszs/duvet.osz',\n",
       " '../../oszs/running-man.osz']"
      ]
     },
     "execution_count": 19,
     "metadata": {},
     "output_type": "execute_result"
    }
   ],
   "source": [
    "# find all osu zips\n",
    "oszs = [osz_path+x for x in os.listdir(osz_path) if x.endswith('osz')]\n",
    "oszs"
   ]
  },
  {
   "cell_type": "code",
   "execution_count": 4,
   "id": "a592db79",
   "metadata": {},
   "outputs": [],
   "source": [
    "def retain_file(filepath):\n",
    "  \"\"\"Returns if file should be kept\n",
    "  At time of writing, keeps osu metadata files and mp3 files\n",
    "  (wav files are used only for hitsounds (irrelevant))\"\"\"\n",
    "  if not (filepath.endswith('osu') or filepath.endswith('mp3')):\n",
    "    return False\n",
    "  return True"
   ]
  },
  {
   "cell_type": "code",
   "execution_count": 16,
   "id": "ad82cfa3",
   "metadata": {},
   "outputs": [],
   "source": [
    "def keep_file(filepath):\n",
    "  \"\"\"\n",
    "  Tells which files should be kept\n",
    "  \"\"\"\n",
    "  checks = ['easy' in filepath.lower(),\n",
    "            'normal' in filepath.lower(), # realistically not playing hards or higher\n",
    "            #'hard' in filepath.lower(), \n",
    "            #'insane' in filepath.lower(),\n",
    "            #'extra' in filepath.lower(),\n",
    "            #'expert' in filepath.lower(),\n",
    "            'audio.mp3' in filepath,\n",
    "            'kantan' in filepath.lower(),\n",
    "            'futsuu' in filepath.lower(),\n",
    "            #'muzukashii' in filepath.lower(),\n",
    "            #'oni'\n",
    "            ]\n",
    "  # !impt: taiko diffs are like so: kantan, futsuu, muzukashii, oni\n",
    "  \n",
    "  return ((True in checks) and ('.wav' not in filepath))"
   ]
  },
  {
   "cell_type": "code",
   "execution_count": 17,
   "id": "d88ea76c",
   "metadata": {},
   "outputs": [],
   "source": [
    "# unzip them. how?\n",
    "# # make dir per song\n",
    "# # retain metadata and audio\n",
    "os.makedirs(unzip_path, exist_ok=True)\n",
    "for osz in oszs:\n",
    "  songname = osz.split('/')[-1].split('.')[0]\n",
    "  save_path = unzip_path+songname+'/'\n",
    "  with zipfile.ZipFile(osz, 'r') as zip_ref:\n",
    "    zip_ref.extractall(save_path)\n",
    "\n",
    "# delete unneeded files:\n",
    "# # subdirs is minimal directory paths (e.g. killing-my-love, duvet w.o. abspath)\n",
    "subdirs = [entry for entry in os.listdir(unzip_path) if os.path.isdir(os.path.join(unzip_path, entry))]\n",
    "for subdir in subdirs:\n",
    "  dirpath = os.path.join(unzip_path,subdir)\n",
    "  for file in os.listdir(dirpath):\n",
    "    if not keep_file(file):\n",
    "      os.remove(os.path.join(dirpath,file))"
   ]
  },
  {
   "cell_type": "markdown",
   "id": "538f3fdc",
   "metadata": {},
   "source": [
    "## 2. Extract Hit Objects from .osu"
   ]
  },
  {
   "cell_type": "code",
   "execution_count": 7,
   "id": "74db52a3",
   "metadata": {},
   "outputs": [],
   "source": [
    "# wiki is extremely well documented\n",
    "# # https://osu.ppy.sh/wiki/en/Client/File_formats/osu_%28file_format%29#type:~:text=Slider%20border%20colour-,Hit%20objects,-Hit%20object%20syntax"
   ]
  },
  {
   "cell_type": "code",
   "execution_count": 8,
   "id": "ae098d03",
   "metadata": {},
   "outputs": [],
   "source": [
    "example_song = os.path.join(unzip_path,'lovenote')"
   ]
  },
  {
   "cell_type": "code",
   "execution_count": 9,
   "id": "302bc637",
   "metadata": {},
   "outputs": [
    {
     "data": {
      "text/plain": [
       "['audio.mp3']"
      ]
     },
     "execution_count": 9,
     "metadata": {},
     "output_type": "execute_result"
    }
   ],
   "source": [
    "example_osu_dir = os.listdir(example_song)\n",
    "example_osu_dir"
   ]
  },
  {
   "cell_type": "code",
   "execution_count": 10,
   "id": "4e92603f",
   "metadata": {},
   "outputs": [],
   "source": [
    "#example_osu #= example_osu_dir[2]"
   ]
  },
  {
   "cell_type": "code",
   "execution_count": 11,
   "id": "cd98b0ed",
   "metadata": {},
   "outputs": [],
   "source": [
    "def classify_object(flag):\n",
    "  \"\"\"\n",
    "  Derive object type from osu's binary flags\n",
    "  \n",
    "  Simplied representation:\n",
    "  - 'circle'\n",
    "  - 'slider'\n",
    "  - 'spinner'\n",
    "  \n",
    "  \"\"\"\n",
    "  # 0 bit indiates slider\n",
    "  circle = (flag & 1) != 0 # check neq 0 not eq 1 b/c bit shift\n",
    "  slider = (flag & 1<<1) != 0\n",
    "  spinner = (flag & 1<<3) != 0\n",
    "  \n",
    "  if circle+slider+spinner>1:\n",
    "    print(\"Whaaat\")\n",
    "  if circle: \n",
    "    return 'circle'\n",
    "  if slider: \n",
    "    return 'slider'\n",
    "  if spinner: \n",
    "    return 'spinner'\n",
    "  print(f\"Something is wrong in object classification. Recieved flag: {flag}\")\n",
    "  return None"
   ]
  },
  {
   "cell_type": "markdown",
   "id": "87ae4d1f",
   "metadata": {},
   "source": [
    "A quick note about taiko. Besides naming convention for difficulties, taiko and osu!std objects are stored identically. hype"
   ]
  },
  {
   "cell_type": "code",
   "execution_count": 12,
   "id": "8aec43c4",
   "metadata": {},
   "outputs": [],
   "source": [
    "def extract_hit_objects(osu_path, just_ints = False):\n",
    "  \"\"\"\n",
    "  Find type information and timing data for all hit objects contained in an .osu file\n",
    "  \n",
    "  Inputs:\n",
    "  - osu_path: path to osu metadata file\n",
    "  \n",
    "  Returns three zipped arrays\n",
    "  - note_types: Array of 'slider', 'spinner' and 'circle' strings\n",
    "  - note_times: Array of integers, representing time in ms when note appears (relative to song start)\n",
    "  - note_ints: Array of 32 bit integers written in hex containing relevant note info. See game_code/notes.md for more info\n",
    "  \"\"\"\n",
    "  start_str = '[HitObjects]'\n",
    "  #csv_fields = 'x,y,time,type,hitSound,objectParams,hitSample'.split(',') # from the wiki\n",
    "  note_types = []\n",
    "  note_times = []\n",
    "  note_ints = []\n",
    "  with open(osu_path, 'r') as map_file:\n",
    "    content = map_file.read()\n",
    "    #print(content.find(start_str))\n",
    "    # see csv_fields comment for how hit objects are parameterized\n",
    "    hit_objects = content[content.find(start_str)+len(start_str)+1:].split('\\n') # extract hit objects\n",
    "    #print(len(hit_objects))\n",
    "    # for now, just time and circle/slider class\n",
    "    for hit_object in hit_objects:\n",
    "      if len(hit_object)>5: # there will always be at least 6 params\n",
    "        hit_object_fields = hit_object.split(',')\n",
    "        #print(hit_object_fields)\n",
    "        ms, note_type = hit_object_fields[2],hit_object_fields[3]\n",
    "        note_types.append(classify_object(int(note_type)))\n",
    "        note_times.append(int(ms))\n",
    "  # creating note_ints\n",
    "  for i in range(len(note_types)):\n",
    "    # !impt\n",
    "    has_been_hit = 0\n",
    "    channel = 0 # 0=L, 1=R\n",
    "    has_repeat_slider = 0\n",
    "    \n",
    "    has_slider = note_types[i]=='slider'\n",
    "    has_spinner = note_types[i]=='spinner'\n",
    "    has_circle = note_types[i]=='circle'\n",
    "\n",
    "    combined_int = has_been_hit<<31 | channel<<30| has_spinner<<29 | has_repeat_slider | has_slider<< 27 | has_circle<<26 | note_times[i]\n",
    "\n",
    "    binary_int = bin(combined_int)[2:].zfill(32)\n",
    "    #print(binary_int)\n",
    "    hex_int_blocks = []\n",
    "    for i in range(8):\n",
    "      bin4 = binary_int[4*i:4*i+4]\n",
    "      hex_int_blocks.append(hex(int('0b'+bin4,2))[2:])\n",
    "    hex_int = '0x'+''.join(hex_int_blocks)\n",
    "    #print(hex_int)\n",
    "    note_ints.append(hex_int)\n",
    "  if just_ints: # programming sin tbh\n",
    "    return note_ints\n",
    "  return list(zip(note_types,note_times,note_ints))\n",
    "  #return pd.read_csv(content)#,usecols=csv_fields)"
   ]
  },
  {
   "cell_type": "code",
   "execution_count": 22,
   "id": "9c0bbc93",
   "metadata": {},
   "outputs": [],
   "source": [
    "song = \"../../oszs/charts/killing-my-love/LESLIE PARRISH - KILLING MY LOVE (Cut Ver.) (Pincus) [Kirishima-'s Normal Bunta's Impreza].osu\"\n",
    "hitobjs = extract_hit_objects(song)"
   ]
  },
  {
   "cell_type": "code",
   "execution_count": 23,
   "id": "685eae1f",
   "metadata": {},
   "outputs": [
    {
     "name": "stdout",
     "output_type": "stream",
     "text": [
      "256\n",
      "('slider', 1675, '0x0800068b')\n"
     ]
    }
   ],
   "source": [
    "# type conversion\n",
    "print(len(hitobjs))\n",
    "for i in hitobjs:\n",
    "  print(i)\n",
    "  break\n"
   ]
  },
  {
   "cell_type": "code",
   "execution_count": 24,
   "id": "85b96aed",
   "metadata": {},
   "outputs": [
    {
     "data": {
      "text/plain": [
       "True"
      ]
     },
     "execution_count": 24,
     "metadata": {},
     "output_type": "execute_result"
    }
   ],
   "source": [
    "# test deciphering\n",
    "correct = 0\n",
    "for a,b,number in hitobjs:\n",
    "  get_position = int('0b'+'1'*20,2)\n",
    "  number_bin = int(number,16)\n",
    "  correct += (get_position&number_bin)==b\n",
    "correct==len(hitobjs) #if true all good"
   ]
  },
  {
   "cell_type": "code",
   "execution_count": 25,
   "id": "c17dd5a4",
   "metadata": {},
   "outputs": [],
   "source": [
    "to_c_string = lambda x: '{'+', '.join(x)+'}'"
   ]
  },
  {
   "cell_type": "code",
   "execution_count": 44,
   "id": "51c9ed8e",
   "metadata": {},
   "outputs": [],
   "source": [
    "# !impt: where you extract hit objects \n",
    "duvet = '../../oszs/charts/duvet/boa - Duvet (TV Size) (Girls Love) [Easy].osu' \n",
    "eta = \"../../oszs/charts/ETA/NewJeans - ETA (bielsuu) [miss yo's Normal].osu\"\n",
    "killing_my_love = \"../../oszs/charts/killing-my-love/LESLIE PARRISH - KILLING MY LOVE (Cut Ver.) (Pincus) [Kirishima-'s Normal Bunta's Impreza].osu\"\n",
    "stupid_horse = '../../oszs/charts/stupid-horse/100 gecs - stupid horse (hehe) [normal].osu'\n",
    "fubuki = '../../oszs/charts/fubuki/Street - Sakura Fubuki (eiri-) [Normal].osu'\n",
    "reality_surf = '../../oszs/charts/reality-surf/bladee - Reality Surf (Metzo) [kantan].osu'\n",
    "rockefeller = '../../oszs/charts/rockefeller-st/Getter Jaani - Rockefeller Street (Nightcore Mix) (Sotarks) [Akitoshi\\'s Normal].osu'"
   ]
  },
  {
   "cell_type": "code",
   "execution_count": 46,
   "id": "8783b6e0",
   "metadata": {},
   "outputs": [],
   "source": [
    "# add more songs as needed\n",
    "hitobjs_boa = extract_hit_objects(duvet, just_ints=True)\n",
    "hitobjs_eta = extract_hit_objects(eta, just_ints=True)\n",
    "hitobjs_love = extract_hit_objects(killing_my_love, just_ints=True)\n",
    "hitobjs_surf = extract_hit_objects(reality_surf, just_ints=True)\n",
    "hitobjs_fubuki = extract_hit_objects(fubuki, just_ints=True)\n",
    "hitobjs_horse = extract_hit_objects(stupid_horse, just_ints=True)\n",
    "hitobjs_rockefeller = extract_hit_objects(rockefeller, just_ints=True)\n",
    "\n",
    "# the results\n",
    "boa_res = to_c_string(hitobjs_boa)\n",
    "eta_res = to_c_string(hitobjs_eta)\n",
    "killing_my_love_res = to_c_string(hitobjs_love) \n",
    "surf_res = to_c_string(hitobjs_surf)\n",
    "fubuki_res = to_c_string(hitobjs_fubuki)\n",
    "horse_res = to_c_string(hitobjs_horse) \n",
    "rock_res = to_c_string(hitobjs_rockefeller)"
   ]
  },
  {
   "cell_type": "code",
   "execution_count": 36,
   "id": "312b7fe9",
   "metadata": {},
   "outputs": [
    {
     "data": {
      "text/plain": [
       "(78,\n",
       " '{0x08000776, 0x04000bd1, 0x04000d10, 0x08000eee, 0x080013f0, 0x080017bd, 0x04001e07, 0x04001feb, 0x0400212e, 0x04002312, 0x08002592, 0x04002959, 0x08002a9c, 0x04002f9c, 0x0400317d, 0x0800335f, 0x08003863, 0x04003c26, 0x08003d67, 0x08003fe9, 0x0400464b, 0x0800478d, 0x04004b53, 0x08004dd7, 0x04005235, 0x04005375, 0x08005554, 0x04005a67, 0x08005ba9, 0x080061f3, 0x080065b4, 0x04006a0b, 0x08006bfa, 0x08006fc9, 0x080074de, 0x040078a7, 0x080079e9, 0x0400801d, 0x040082a1, 0x08008525, 0x080088eb, 0x04008f36, 0x08009078, 0x0800943e, 0x08009804, 0x08009a89, 0x0400a088, 0x2000a2f0, 0x0400b734, 0x0800b9b6, 0x0800bd79, 0x0400c279, 0x0400c3ba, 0x0800c63b, 0x0400cb4a, 0x2000cdcc, 0x0800e97b, 0x0400f0f5, 0x0400f38e, 0x0800f4d0, 0x0400f896, 0x0800f9d8, 0x04010022, 0x040102a7, 0x080103e9, 0x080108f1, 0x08010cb7, 0x0801107e, 0x080116c8, 0x04011d13, 0x08011e55, 0x0801221b, 0x04012866, 0x04012aea, 0x08012c26, 0x0801311c, 0x080134e2, 0x200138a8}')"
      ]
     },
     "execution_count": 36,
     "metadata": {},
     "output_type": "execute_result"
    }
   ],
   "source": [
    "len(boa_res.split(',')), boa_res"
   ]
  },
  {
   "cell_type": "code",
   "execution_count": null,
   "id": "348bd629",
   "metadata": {},
   "outputs": [
    {
     "name": "stdout",
     "output_type": "stream",
     "text": [
      "266\n"
     ]
    },
    {
     "data": {
      "text/plain": [
       "(None,\n",
       " '{0x08001d05, 0x08001f9f, 0x0800223a, 0x080025b3, 0x0400276f, 0x0400292c, 0x08002ae8, 0x08002d83, 0x0800301d, 0x08003396, 0x04003553, 0x0400370f, 0x080038cc, 0x08003c45, 0x08003fbd, 0x08004336, 0x080046af, 0x0400486c, 0x04004a28, 0x08004b06, 0x08004da1, 0x08005493, 0x0400572d, 0x0400580c, 0x080059c8, 0x04005d41, 0x04005efd, 0x040060ba, 0x08006276, 0x04006511, 0x040065ef, 0x080067ac, 0x04006968, 0x08006b25, 0x08006ce1, 0x0800705a, 0x08007216, 0x080073d3, 0x0800774c, 0x08007908, 0x08007ac5, 0x08007e3d, 0x08007ffa, 0x080081b6, 0x08008373, 0x040088a8, 0x04008986, 0x08008a65, 0x04008c21, 0x04008ddd, 0x08008f9a, 0x04009313, 0x040094cf, 0x0800968c, 0x04009a05, 0x04009bc1, 0x08009d7d, 0x0400a018, 0x0400a0f6, 0x0400a2b3, 0x0800a46f, 0x0400a70a, 0x0400a7e8, 0x0400a9a5, 0x0800ab61, 0x0800aeda, 0x0800b253, 0x0400b5cc, 0x0400b945, 0x0400bcbd, 0x0800c036, 0x0400c1f3, 0x0800c3af, 0x0800c56c, 0x0400c806, 0x0400c8e5, 0x0800caa1, 0x0800ce1a, 0x0800cfd6, 0x0400d193, 0x0800d34f, 0x0800d50c, 0x0400d6c8, 0x0800d885, 0x0400dbfd, 0x0400dcdc, 0x0800ddba, 0x0400df76, 0x0800e133, 0x0400e3cd, 0x0400e4ac, 0x0800e668, 0x0400e9e1, 0x0400eabf, 0x0800eb9d, 0x0800ed5a, 0x0800ef16, 0x0400f1b1, 0x0400f28f, 0x0800f44c, 0x0400f8a3, 0x0800f981, 0x0400fb3d, 0x0800fcfa, 0x0800feb6, 0x04010073, 0x0801022f, 0x080103ec, 0x040105a8, 0x08010765, 0x04010921, 0x08010add, 0x08010c9a, 0x04010e56, 0x08011013, 0x080111cf, 0x0801138c, 0x04011626, 0x04011705, 0x080118c1, 0x08011a7d, 0x04011c3a, 0x08011df6, 0x08011fb3, 0x0801216f, 0x0401232c, 0x080124e8, 0x080126a5, 0x08012a1d, 0x08012bda, 0x08012e75, 0x0401310f, 0x080132cc, 0x04013566, 0x04013645, 0x08013801, 0x040139bd, 0x08013b7a, 0x08013d36, 0x04013ef3, 0x080140af, 0x0401434a, 0x04014428, 0x080145e5, 0x040147a1, 0x0801495d, 0x08014b1a, 0x04014cd6, 0x08014e93, 0x0801504f, 0x0801520c, 0x08015585, 0x08015741, 0x080158fd, 0x08015c76, 0x08015e33, 0x08015fef, 0x080161ac, 0x040166e1, 0x040167bf, 0x0801689d, 0x04016a5a, 0x04016c16, 0x08016dd3, 0x0401714c, 0x04017308, 0x080174c5, 0x0401783d, 0x040179fa, 0x08017bb6, 0x04017e51, 0x04017f2f, 0x040180ec, 0x080182a8, 0x04018543, 0x04018621, 0x040187dd, 0x0801899a, 0x08018d13, 0x0801908c, 0x04019405, 0x0401977d, 0x04019af6, 0x08019e6f, 0x0401a02c, 0x0801a1e8, 0x0801a3a5, 0x0401a63f, 0x0401a71d, 0x0801a8da, 0x0801ac53, 0x0801ae0f, 0x0401afcc, 0x0801b188, 0x0801b345, 0x0401b501, 0x0801b6bd, 0x0801ba36, 0x0801bbf3, 0x0401bdaf, 0x0801bf6c, 0x0401c206, 0x0401c2e5, 0x0801c4a1, 0x0401c81a, 0x0401c8f8, 0x0801c9d6, 0x0801cb93, 0x0801cd4f, 0x0401cfea, 0x0401d0c8, 0x0801d285, 0x0401d6dc, 0x0801d7ba, 0x0401d976, 0x0801db33, 0x0801dcef, 0x0401deac, 0x0801e068, 0x0801e225, 0x0401e3e1, 0x0801e59d, 0x0401e75a, 0x0801e916, 0x0801ead3, 0x0401ec8f, 0x0801ee4c, 0x0801f008, 0x0801f1c5, 0x0401f45f, 0x0401f53d, 0x0801f6fa, 0x0801f8b6, 0x0401fa73, 0x0801fc2f, 0x0801fdec, 0x0801ffa8, 0x04020165, 0x08020321, 0x080204dd, 0x08020856, 0x08020a13, 0x08020cad, 0x08020f48, 0x04021105, 0x080212c1, 0x0802163a, 0x080217f6, 0x08021b6f, 0x08021d2c, 0x08021ee8, 0x04022261, 0x0802241d, 0x08022953, 0x08022b0f, 0x08022ccc, 0x04023045, 0x08023201, 0x0402357a, 0x04023736, 0x08023815, 0x08023aaf, 0x04023fe5, 0x080241a1, 0x0802451a, 0x040247b5}')"
      ]
     },
     "execution_count": 35,
     "metadata": {},
     "output_type": "execute_result"
    }
   ],
   "source": [
    "len(eta_res.split(',')), eta_res"
   ]
  },
  {
   "cell_type": "code",
   "execution_count": 38,
   "id": "9759c28d",
   "metadata": {},
   "outputs": [
    {
     "data": {
      "text/plain": [
       "(256,\n",
       " '{0x0800068b, 0x0800080a, 0x04000b08, 0x08000c87, 0x08000e06, 0x08001103, 0x04001282, 0x040017be, 0x0800187e, 0x04001cfb, 0x08001e79, 0x04002177, 0x040022f6, 0x08002475, 0x040028f2, 0x08002a71, 0x04002d6e, 0x04002eed, 0x0800306c, 0x040032ab, 0x0800336a, 0x08003668, 0x080038a6, 0x04003ae4, 0x08003c63, 0x04003ea2, 0x08003f61, 0x0800425f, 0x0800449d, 0x040046dc, 0x0800485b, 0x040049dc, 0x04004a9c, 0x08004eb0, 0x08005331, 0x080054b1, 0x04005813, 0x08005933, 0x08005ab3, 0x08005f35, 0x080060b5, 0x04006417, 0x08006537, 0x080066b7, 0x080068f8, 0x08006b39, 0x08006cb9, 0x0400701a, 0x0800713b, 0x080072bb, 0x080074fc, 0x0800773d, 0x080078bd, 0x04007c1e, 0x08007d3f, 0x08007ebf, 0x08008100, 0x08008341, 0x080084c1, 0x080090c5, 0x08009306, 0x08009547, 0x040096c7, 0x04009848, 0x08009908, 0x08009b49, 0x08009cc9, 0x08009f0a, 0x0800a14b, 0x0400a2cb, 0x0400a44c, 0x0800a50c, 0x0800a74d, 0x0800a8cd, 0x0800ab0e, 0x0800ad4f, 0x0400aecf, 0x0400b04f, 0x0800b110, 0x0800b350, 0x0800b4d1, 0x0800b712, 0x0800b952, 0x0400bad3, 0x0400bc53, 0x0800bd14, 0x0800bf54, 0x0800c0d5, 0x0800c316, 0x0800c556, 0x0400c6d7, 0x0800c857, 0x0400ca98, 0x0400cc19, 0x0800ccd9, 0x0400d15a, 0x0800d21b, 0x0400d45b, 0x0400d5dc, 0x0800d75c, 0x0400d99d, 0x0800da5d, 0x0400dbde, 0x0400dc9e, 0x0800de1f, 0x0400e2a0, 0x0800e360, 0x0800e4e1, 0x0400e721, 0x0400e7e2, 0x0400e962, 0x0800ea22, 0x0800ec63, 0x0400ede4, 0x0400ef64, 0x0400f024, 0x0400f1a5, 0x0800f265, 0x0400f4a6, 0x0800f626, 0x0400f867, 0x0400f9e8, 0x0400fb68, 0x0800fce9, 0x0800fe69, 0x0400ffea, 0x040100aa, 0x0801022a, 0x0801046b, 0x040105ec, 0x040106ac, 0x0401082c, 0x080108ed, 0x04010bee, 0x08010cae, 0x08010e2e, 0x0401106f, 0x040111ef, 0x04011370, 0x080114f0, 0x08011671, 0x040117f1, 0x040118b2, 0x08011a32, 0x08011c73, 0x04011df3, 0x04011eb4, 0x04012034, 0x080120f4, 0x040123f5, 0x080124b6, 0x08012636, 0x04012877, 0x040129f7, 0x04012b78, 0x08012cf8, 0x04012e79, 0x08012f39, 0x0801317a, 0x040132fa, 0x080133bb, 0x0801353b, 0x0401377c, 0x080138fc, 0x04013a7d, 0x08013b3d, 0x04013d7e, 0x08013e3e, 0x08013fbe, 0x0401413f, 0x080142bf, 0x08014440, 0x04014681, 0x08014741, 0x04014982, 0x08014a42, 0x08014bc2, 0x08014d43, 0x08015044, 0x04015285, 0x08015345, 0x04015586, 0x08015646, 0x080157c6, 0x08015947, 0x04015b88, 0x08015d08, 0x04015e89, 0x08015f49, 0x0801618a, 0x0401630a, 0x080163ca, 0x0801654b, 0x0401678c, 0x0801690c, 0x04016a8d, 0x08016b4d, 0x04016d8e, 0x08016e4e, 0x08016fce, 0x0401714f, 0x080172cf, 0x08017450, 0x04017690, 0x08017751, 0x04017991, 0x08017a52, 0x08017bd2, 0x08017d53, 0x04017f93, 0x08018114, 0x04018294, 0x08018355, 0x04018595, 0x08018656, 0x080187d6, 0x08018957, 0x04018b97, 0x08018d18, 0x08018f59, 0x08019199, 0x0401931a, 0x0401949a, 0x0801955b, 0x0801979b, 0x0801991c, 0x08019b5d, 0x08019d9d, 0x04019f1e, 0x0401a09e, 0x0801a15e, 0x0801a39f, 0x0801a520, 0x0801a760, 0x0801a9a1, 0x0401ab22, 0x0401aca2, 0x0801ad62, 0x0801afa3, 0x0801b124, 0x0801b364, 0x0801b5a5, 0x0401b726, 0x0401b8a6, 0x0801b966, 0x0801bba7, 0x0801bd28, 0x0801bf68, 0x0801c1a9, 0x0401c32a, 0x0801c4aa, 0x0401c6eb, 0x0401c86b, 0x0801c92c, 0x0401caac, 0x0801cb6c}')"
      ]
     },
     "execution_count": 38,
     "metadata": {},
     "output_type": "execute_result"
    }
   ],
   "source": [
    "len(killing_my_love_res.split(',')), killing_my_love_res"
   ]
  },
  {
   "cell_type": "code",
   "execution_count": 40,
   "id": "5156a7c3",
   "metadata": {},
   "outputs": [
    {
     "data": {
      "text/plain": [
       "(193,\n",
       " '{0x0400030c, 0x040005fa, 0x040008e8, 0x04000ec4, 0x040011b2, 0x040014a0, 0x04001a7c, 0x04001d6a, 0x04002058, 0x04002634, 0x04002922, 0x04002c10, 0x040031ec, 0x040034da, 0x04003651, 0x040037c8, 0x04003ab6, 0x04003da4, 0x04004092, 0x04004209, 0x04004380, 0x0400466e, 0x0400495c, 0x04004dc1, 0x04004f38, 0x040050af, 0x04005226, 0x04005514, 0x04005979, 0x04005af0, 0x04005dde, 0x04005f55, 0x040060cc, 0x04006531, 0x040066a8, 0x0400681f, 0x04006996, 0x04006c84, 0x04006f72, 0x040070e9, 0x04007260, 0x0400754e, 0x040076c5, 0x0400783c, 0x04007b2a, 0x04007ca1, 0x04007e18, 0x04008106, 0x0400827d, 0x040083f4, 0x040089d0, 0x04008b47, 0x04008fac, 0x0400929a, 0x04009588, 0x040096ff, 0x04009876, 0x04009b64, 0x04009e52, 0x0400a140, 0x0400a2b7, 0x0400a42e, 0x0400a5a5, 0x0400a71c, 0x0400acf8, 0x0400ae6f, 0x0400afe6, 0x0400b2d4, 0x0400b739, 0x0400b8b0, 0x0400ba27, 0x0400bb9e, 0x0400bd15, 0x0400be8c, 0x0400c17a, 0x0400c2f1, 0x0400c756, 0x0400c8cd, 0x0400cbbb, 0x0400cd32, 0x0400cea9, 0x0400d020, 0x0400d30e, 0x0400d485, 0x0400d5fc, 0x0400d8ea, 0x0400dbd8, 0x0400dd4f, 0x0400dec6, 0x0400e03d, 0x0400e1b4, 0x0400e4a2, 0x0400e619, 0x0400e790, 0x0400e907, 0x0400ea7e, 0x0400f05a, 0x0400f348, 0x0400f4bf, 0x0400f636, 0x0400f7ad, 0x0400f924, 0x0400fc12, 0x0400ff00, 0x04010077, 0x040101ee, 0x04010365, 0x040104dc, 0x040107ca, 0x04010ab8, 0x04010c2f, 0x04010da6, 0x04010f1d, 0x04011094, 0x04011382, 0x040114f9, 0x0401195e, 0x04011c4c, 0x040120b1, 0x04012228, 0x04012516, 0x0401268d, 0x04012804, 0x04012de0, 0x04012f57, 0x040130ce, 0x04013245, 0x040133bc, 0x040136aa, 0x04013998, 0x04013b0f, 0x04013c86, 0x04013dfd, 0x04013f74, 0x04014262, 0x040143d9, 0x04014550, 0x040146c7, 0x0401483e, 0x04014b2c, 0x04014e1a, 0x04014f91, 0x04015108, 0x040156e4, 0x040159d2, 0x04015b49, 0x04015cc0, 0x04015fae, 0x0401629c, 0x0401658a, 0x04016878, 0x04016b66, 0x04016e54, 0x04017430, 0x04017a0c, 0x04017cfa, 0x04017fe8, 0x0401815f, 0x040182d6, 0x040185c4, 0x040188b2, 0x04018ba0, 0x04018d17, 0x04018e8e, 0x0401917c, 0x04019758, 0x040198cf, 0x04019a46, 0x04019d34, 0x0401a022, 0x0401a310, 0x0401a487, 0x0401a5fe, 0x0401a775, 0x0401a8ec, 0x0401abda, 0x0401ad51, 0x0401b1b6, 0x0401b4a4, 0x0401b792, 0x0401b9c4, 0x0401bd6e, 0x0401c05c, 0x0401c34a, 0x0401c4c1, 0x0401c926, 0x0401cc14, 0x0401cf02, 0x0401d134, 0x0401d4de, 0x0401d7cc, 0x0401daba, 0x0401dc31}')"
      ]
     },
     "execution_count": 40,
     "metadata": {},
     "output_type": "execute_result"
    }
   ],
   "source": [
    "len(surf_res.split(',')), surf_res"
   ]
  },
  {
   "cell_type": "code",
   "execution_count": 41,
   "id": "347b51a7",
   "metadata": {},
   "outputs": [
    {
     "data": {
      "text/plain": [
       "(219,\n",
       " '{0x0400015e, 0x04000967, 0x04000b69, 0x040016cb, 0x04001ed4, 0x040020d6, 0x08002c39, 0x04002e3b, 0x08002ee7, 0x0400303e, 0x08003194, 0x08003442, 0x04003644, 0x080036f0, 0x0800399e, 0x04003ba0, 0x08003c4b, 0x04003ef9, 0x08003fa4, 0x040041a7, 0x040042fe, 0x04004454, 0x040045ab, 0x08004702, 0x08004859, 0x080049b0, 0x04004b07, 0x08004c5e, 0x04005062, 0x080051b9, 0x08005310, 0x04005467, 0x080055be, 0x04005714, 0x040057c0, 0x04005917, 0x040059c3, 0x04005b18, 0x04005bc4, 0x04005d1b, 0x04005dc7, 0x08005f1e, 0x04006074, 0x08006120, 0x04006479, 0x080065d0, 0x04006727, 0x0800687e, 0x040069d4, 0x08006a80, 0x04006c82, 0x08006dd9, 0x04006f30, 0x04007087, 0x04007132, 0x080071de, 0x0400748b, 0x08007537, 0x0800768e, 0x08007890, 0x040079e7, 0x08007b3e, 0x04007c94, 0x08007deb, 0x04007f42, 0x04008099, 0x04008144, 0x080081f0, 0x0800849e, 0x040085f4, 0x080086a0, 0x0800894e, 0x08008aa4, 0x08008bfb, 0x04008f54, 0x080090ab, 0x04009202, 0x08009359, 0x040094af, 0x0800955b, 0x0400975d, 0x080098b4, 0x04009a0b, 0x04009b62, 0x04009c0d, 0x08009cb9, 0x04009f66, 0x0800a012, 0x0800a169, 0x0800a36b, 0x0400a4c2, 0x0800a619, 0x0400a770, 0x0400a8c7, 0x0800aa1e, 0x0400ab74, 0x0800accb, 0x0400aecd, 0x0800af79, 0x0400b0cf, 0x0800b227, 0x0800b4d4, 0x0800b62b, 0x0400b782, 0x0400bc32, 0x0400c18e, 0x0400c6e9, 0x0400ccf0, 0x0400d1a0, 0x0400d6fb, 0x0400dc57, 0x0800e25e, 0x0400e5b7, 0x0800e70e, 0x0400e9bb, 0x0800ea67, 0x0400ec69, 0x0800ed14, 0x0400efc2, 0x0800f06e, 0x0800f270, 0x0400f51e, 0x0800f5c9, 0x0400f7cb, 0x0400f922, 0x0400fa79, 0x0800fbd0, 0x0400fd27, 0x0400fe7e, 0x0800ffd4, 0x0801012b, 0x04010282, 0x040103d9, 0x04010530, 0x040105db, 0x08010687, 0x040107de, 0x04010934, 0x08010a8b, 0x04010be2, 0x08010d39, 0x04011092, 0x0401113e, 0x08011294, 0x080113eb, 0x04011699, 0x08011744, 0x04011947, 0x08011a9e, 0x04011bf4, 0x08011ca0, 0x04011ea2, 0x08011ff9, 0x04012150, 0x080122a7, 0x040124a9, 0x04012600, 0x080126ab, 0x08012802, 0x04012a04, 0x08012b5b, 0x08012cb2, 0x08012f60, 0x04013162, 0x0801320e, 0x08013410, 0x04013567, 0x080136be, 0x04013815, 0x080138c0, 0x04013ac2, 0x04013c19, 0x08013cc4, 0x04013ec7, 0x0401401e, 0x080140c9, 0x04014220, 0x080142cb, 0x040144ce, 0x04014624, 0x080146d0, 0x04014827, 0x0801497e, 0x04014b80, 0x08014c2b, 0x08014d82, 0x04014f84, 0x040150db, 0x08015187, 0x080152de, 0x040154e0, 0x08015637, 0x0401578e, 0x08015839, 0x04015a3b, 0x04015b92, 0x08015c3e, 0x04015d94, 0x04015eeb, 0x08016042, 0x08016199, 0x040162f0, 0x040167a0, 0x04016cfb, 0x04017257, 0x0401785e, 0x04017d0e, 0x04018269, 0x040187c4, 0x04018dcb, 0x0401927b, 0x040197d6, 0x04019d32, 0x0401a339, 0x0401a7e9, 0x0401ad44, 0x0401b29f, 0x0801b750, 0x0801b8a7}')"
      ]
     },
     "execution_count": 41,
     "metadata": {},
     "output_type": "execute_result"
    }
   ],
   "source": [
    "len(fubuki_res.split(',')), fubuki_res"
   ]
  },
  {
   "cell_type": "code",
   "execution_count": 42,
   "id": "a0d919eb",
   "metadata": {},
   "outputs": [
    {
     "data": {
      "text/plain": [
       "(182,\n",
       " '{0x04001410, 0x080014c2, 0x040016da, 0x0800183f, 0x08001c6e, 0x04001e86, 0x04001f39, 0x0800209e, 0x08002368, 0x08002798, 0x040029af, 0x04002a62, 0x08002bc7, 0x08002e91, 0x080032c1, 0x040034d8, 0x0400358b, 0x080036f0, 0x080039ba, 0x08003dea, 0x04004002, 0x040040b4, 0x0400437e, 0x040044e4, 0x04004596, 0x08004649, 0x04004913, 0x04004a79, 0x04004b2b, 0x08004bde, 0x08004ea8, 0x080052d7, 0x0800543c, 0x08005706, 0x040059d1, 0x04005b36, 0x04005c9b, 0x04005e00, 0x08005f65, 0x0400617d, 0x08006230, 0x080064fa, 0x08006a8e, 0x08006bf4, 0x08006d59, 0x04006f70, 0x08007023, 0x08007452, 0x080075b8, 0x040079e7, 0x08007b4c, 0x08007f7c, 0x080080e1, 0x04008510, 0x08008675, 0x08008aa5, 0x08008c0a, 0x04009039, 0x0800919e, 0x080095ce, 0x08009733, 0x04009b62, 0x08009cc8, 0x0800a0f7, 0x0800a25c, 0x0400a68c, 0x0800a7f1, 0x0800ac20, 0x0800ad85, 0x0400b1b5, 0x0800b31a, 0x0800b749, 0x0800b8ae, 0x0400bcde, 0x0800be43, 0x0800c272, 0x0800c3d8, 0x0800c807, 0x0400dcf4, 0x0800dda7, 0x0800dfbe, 0x0400e3ee, 0x0800e553, 0x0400e982, 0x0400eae8, 0x0400edb2, 0x0400f07c, 0x0800f346, 0x2000f776, 0x0401013a, 0x0401029f, 0x04010352, 0x08010404, 0x040106ce, 0x04010833, 0x040108e6, 0x08010998, 0x08010c63, 0x08010dc8, 0x08010f2d, 0x08011092, 0x080111f8, 0x0801135d, 0x04011627, 0x0801178c, 0x080118f1, 0x08011a56, 0x08011bbc, 0x08011d21, 0x08011e86, 0x04012150, 0x080122b5, 0x040124cd, 0x08012580, 0x0801284a, 0x04012a62, 0x08012b14, 0x08012dde, 0x04012ff6, 0x080130a9, 0x08013373, 0x0401358b, 0x0801363d, 0x04013908, 0x04013a6d, 0x04013bd2, 0x04013d37, 0x08013e9c, 0x040140b4, 0x08014166, 0x08014431, 0x080149c5, 0x08014b2a, 0x08014c90, 0x04014ea7, 0x08014f5a, 0x08015389, 0x080154ee, 0x0401591e, 0x08015a83, 0x08015eb2, 0x08016018, 0x04016447, 0x080165ac, 0x080169dc, 0x08016b41, 0x04016f70, 0x080170d5, 0x04017bfe, 0x04017d64, 0x04017e16, 0x08017ec9, 0x04018193, 0x040182f9, 0x040183ab, 0x0801845e, 0x08018728, 0x08018b57, 0x08018cbc, 0x08018f86, 0x04019251, 0x040193b6, 0x0401951b, 0x04019680, 0x080197e5, 0x040199fd, 0x08019ab0, 0x08019d7a, 0x0801a30e, 0x0801a474, 0x0801a5d9, 0x0401a7f0, 0x0801a8a3, 0x0801acd2, 0x0801ae38, 0x0401b267, 0x0801b3cc, 0x0801bef5, 0x0801c325, 0x0801c48a, 0x0401c8b9, 0x0801ca1e}')"
      ]
     },
     "execution_count": 42,
     "metadata": {},
     "output_type": "execute_result"
    }
   ],
   "source": [
    "len(horse_res.split(',')), horse_res"
   ]
  },
  {
   "cell_type": "code",
   "execution_count": 47,
   "id": "54ece456",
   "metadata": {},
   "outputs": [
    {
     "data": {
      "text/plain": [
       "(160,\n",
       " '{0x040017ef, 0x08001960, 0x08001db4, 0x04002097, 0x04002208, 0x04002379, 0x080024ea, 0x0800293e, 0x04002c20, 0x04002d92, 0x04002f03, 0x08003074, 0x080034c8, 0x040037aa, 0x0400391b, 0x04003a8d, 0x08003bfe, 0x08004052, 0x04004334, 0x040044a5, 0x08004617, 0x080048f9, 0x08004bdb, 0x04004ebe, 0x0400502f, 0x080051a0, 0x08005483, 0x08005765, 0x04005a48, 0x04005bb9, 0x08005d2a, 0x0800600d, 0x080062ef, 0x040065d2, 0x04006743, 0x080068b4, 0x08006b97, 0x08006e79, 0x040070a3, 0x0800715b, 0x0800743e, 0x04007720, 0x04007892, 0x08007a03, 0x04007c2d, 0x08007ce5, 0x08007fc8, 0x040082aa, 0x0400841b, 0x0800858d, 0x040087b7, 0x0800886f, 0x08008b52, 0x04008e34, 0x04008fa5, 0x08009117, 0x04009340, 0x080093f9, 0x080096db, 0x040099be, 0x04009b2f, 0x08009ca0, 0x04009eca, 0x08009f83, 0x0400a265, 0x0400a3d7, 0x0400a548, 0x0400a6b9, 0x0800a82a, 0x0400aa54, 0x0800ab0d, 0x0400adef, 0x0400af60, 0x0800b0d2, 0x0400b2fb, 0x0800b3b4, 0x0800b697, 0x0400b979, 0x0400baea, 0x0400bc5b, 0x0400bdcd, 0x0800bf3e, 0x0400c168, 0x0800c220, 0x0400c503, 0x0400c674, 0x0800c7e5, 0x0400ca0f, 0x0800cac8, 0x0800cdaa, 0x0400d08d, 0x0800d1fe, 0x0400d652, 0x0800d7c3, 0x0800dc17, 0x0400de40, 0x0800def9, 0x0800e1db, 0x0400e405, 0x0800e4be, 0x0400e7a0, 0x0800e912, 0x0400ed65, 0x0800eed7, 0x0800f32a, 0x0400f554, 0x0800f60d, 0x0800f8ef, 0x0800fbd2, 0x20012152, 0x04012cdb, 0x04012e4d, 0x04012fbe, 0x0401312f, 0x080132a0, 0x040134ca, 0x08013583, 0x04013865, 0x040139d7, 0x08013b48, 0x04013d72, 0x08013e2a, 0x0801410d, 0x040143ef, 0x04014560, 0x040146d2, 0x04014843, 0x080149b4, 0x04014bde, 0x08014c97, 0x04014f79, 0x040150ea, 0x0801525b, 0x04015485, 0x0801553e, 0x08015820, 0x04015b03, 0x04015c74, 0x04015de5, 0x04015f57, 0x080160c8, 0x040162f2, 0x080163aa, 0x0801668d, 0x040168b7, 0x0801696f, 0x04016c52, 0x04016dc3, 0x08016f34, 0x04017217, 0x04017388, 0x040174f9, 0x0401766a, 0x080177db, 0x04017a05, 0x08017abe, 0x08017da0, 0x04017fca, 0x08018083, 0x04018365}')"
      ]
     },
     "execution_count": 47,
     "metadata": {},
     "output_type": "execute_result"
    }
   ],
   "source": [
    "len(rock_res.split(',')), rock_res"
   ]
  }
 ],
 "metadata": {
  "kernelspec": {
   "display_name": "base",
   "language": "python",
   "name": "python3"
  },
  "language_info": {
   "codemirror_mode": {
    "name": "ipython",
    "version": 3
   },
   "file_extension": ".py",
   "mimetype": "text/x-python",
   "name": "python",
   "nbconvert_exporter": "python",
   "pygments_lexer": "ipython3",
   "version": "3.11.8"
  }
 },
 "nbformat": 4,
 "nbformat_minor": 5
}
