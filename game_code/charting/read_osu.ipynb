{
 "cells": [
  {
   "cell_type": "markdown",
   "id": "a33a4d72",
   "metadata": {},
   "source": [
    "# Convert Osu to Beet Saber"
   ]
  },
  {
   "cell_type": "markdown",
   "id": "bc62ada0",
   "metadata": {},
   "source": [
    "## 1. Convert .osz to .osu"
   ]
  },
  {
   "cell_type": "code",
   "execution_count": 2,
   "id": "31893b89",
   "metadata": {},
   "outputs": [],
   "source": [
    "# find install dir\n",
    "import os\n",
    "import zipfile"
   ]
  },
  {
   "cell_type": "code",
   "execution_count": 3,
   "id": "a1996fb8",
   "metadata": {},
   "outputs": [],
   "source": [
    "osz_path = '/Users/donu/Desktop/S25/ELEC 327/327-final-proj/oszs/'\n",
    "unzip_path = '/Users/donu/Desktop/S25/ELEC 327/327-final-proj/oszs/charts/'"
   ]
  },
  {
   "cell_type": "code",
   "execution_count": 4,
   "id": "7170a204",
   "metadata": {},
   "outputs": [
    {
     "data": {
      "text/plain": [
       "['/Users/donu/Desktop/S25/ELEC 327/327-final-proj/oszs/killing-my-love.osz',\n",
       " '/Users/donu/Desktop/S25/ELEC 327/327-final-proj/oszs/ETA.osz',\n",
       " '/Users/donu/Desktop/S25/ELEC 327/327-final-proj/oszs/stupid-horse.osz',\n",
       " '/Users/donu/Desktop/S25/ELEC 327/327-final-proj/oszs/duvet.osz',\n",
       " '/Users/donu/Desktop/S25/ELEC 327/327-final-proj/oszs/running-man.osz']"
      ]
     },
     "execution_count": 4,
     "metadata": {},
     "output_type": "execute_result"
    }
   ],
   "source": [
    "# find all osu zips\n",
    "oszs = [osz_path+x for x in os.listdir(osz_path) if x.endswith('osz')]\n",
    "oszs"
   ]
  },
  {
   "cell_type": "code",
   "execution_count": 5,
   "id": "a592db79",
   "metadata": {},
   "outputs": [],
   "source": [
    "def retain_file(filepath):\n",
    "  \"\"\"Returns if file should be kept\n",
    "  At time of writing, keeps osu metadata files and mp3 files\n",
    "  (wav files are used only for hitsounds (irrelevant))\"\"\"\n",
    "  if not (filepath.endswith('osu') or filepath.endswith('mp3')):\n",
    "    return False\n",
    "  return True"
   ]
  },
  {
   "cell_type": "code",
   "execution_count": 6,
   "id": "ad82cfa3",
   "metadata": {},
   "outputs": [],
   "source": [
    "def keep_file(filepath):\n",
    "  \"\"\"\n",
    "  Tells which files should be kept\n",
    "  \"\"\"\n",
    "  checks = ['easy' in filepath.lower(),\n",
    "            'normal' in filepath.lower(),\n",
    "            'hard' in filepath.lower(),\n",
    "            'insane' in filepath.lower(),\n",
    "            'extra' in filepath.lower(),\n",
    "            'expert' in filepath.lower(),\n",
    "            'audio.mp3' in filepath,\n",
    "            ]\n",
    "  # !impt: taiko diffs are like so: kantan, futsuu, muzukashii, oni\n",
    "  \n",
    "  return ((True in checks) and ('.wav' not in filepath))"
   ]
  },
  {
   "cell_type": "code",
   "execution_count": 7,
   "id": "d88ea76c",
   "metadata": {},
   "outputs": [],
   "source": [
    "# unzip them. how?\n",
    "# # make dir per song\n",
    "# # retain metadata and audio\n",
    "os.makedirs(unzip_path, exist_ok=True)\n",
    "for osz in oszs:\n",
    "  songname = osz.split('/')[-1].split('.')[0]\n",
    "  save_path = unzip_path+songname+'/'\n",
    "  with zipfile.ZipFile(osz, 'r') as zip_ref:\n",
    "    zip_ref.extractall(save_path)\n",
    "\n",
    "# delete unneeded files:\n",
    "# # subdirs is minimal directory paths (e.g. killing-my-love, duvet w.o. abspath)\n",
    "subdirs = [entry for entry in os.listdir(unzip_path) if os.path.isdir(os.path.join(unzip_path, entry))]\n",
    "for subdir in subdirs:\n",
    "  dirpath = os.path.join(unzip_path,subdir)\n",
    "  for file in os.listdir(dirpath):\n",
    "    if not keep_file(file):\n",
    "      os.remove(os.path.join(dirpath,file))"
   ]
  },
  {
   "cell_type": "markdown",
   "id": "538f3fdc",
   "metadata": {},
   "source": [
    "## 2. Extract Hit Objects from .osu"
   ]
  },
  {
   "cell_type": "code",
   "execution_count": 8,
   "id": "74db52a3",
   "metadata": {},
   "outputs": [],
   "source": [
    "# wiki is extremely well documented\n",
    "# # https://osu.ppy.sh/wiki/en/Client/File_formats/osu_%28file_format%29#type:~:text=Slider%20border%20colour-,Hit%20objects,-Hit%20object%20syntax"
   ]
  },
  {
   "cell_type": "code",
   "execution_count": 9,
   "id": "ae098d03",
   "metadata": {},
   "outputs": [],
   "source": [
    "example_song = os.path.join(unzip_path,'lovenote')"
   ]
  },
  {
   "cell_type": "code",
   "execution_count": 10,
   "id": "302bc637",
   "metadata": {},
   "outputs": [
    {
     "data": {
      "text/plain": [
       "['audio.mp3']"
      ]
     },
     "execution_count": 10,
     "metadata": {},
     "output_type": "execute_result"
    }
   ],
   "source": [
    "example_osu_dir = os.listdir(example_song)\n",
    "example_osu_dir"
   ]
  },
  {
   "cell_type": "code",
   "execution_count": 11,
   "id": "4e92603f",
   "metadata": {},
   "outputs": [],
   "source": [
    "#example_osu #= example_osu_dir[2]"
   ]
  },
  {
   "cell_type": "code",
   "execution_count": 12,
   "id": "cd98b0ed",
   "metadata": {},
   "outputs": [],
   "source": [
    "def classify_object(flag):\n",
    "  \"\"\"\n",
    "  Derive object type from osu's binary flags\n",
    "  \n",
    "  Simplied representation:\n",
    "  - 'circle'\n",
    "  - 'slider'\n",
    "  - 'spinner'\n",
    "  \n",
    "  \"\"\"\n",
    "  # 0 bit indiates slider\n",
    "  circle = (flag & 1) != 0 # check neq 0 not eq 1 b/c bit shift\n",
    "  slider = (flag & 1<<1) != 0\n",
    "  spinner = (flag & 1<<3) != 0\n",
    "  \n",
    "  if circle+slider+spinner>1:\n",
    "    print(\"Whaaat\")\n",
    "  if circle: \n",
    "    return 'circle'\n",
    "  if slider: \n",
    "    return 'slider'\n",
    "  if spinner: \n",
    "    return 'spinner'\n",
    "  print(f\"Something is wrong in object classification. Recieved flag: {flag}\")\n",
    "  return None"
   ]
  },
  {
   "cell_type": "markdown",
   "id": "87ae4d1f",
   "metadata": {},
   "source": [
    "A quick note about taiko. Besides naming convention for difficulties, taiko and osu!std objects are stored identically. hype"
   ]
  },
  {
   "cell_type": "code",
   "execution_count": 13,
   "id": "8aec43c4",
   "metadata": {},
   "outputs": [],
   "source": [
    "def extract_hit_objects(osu_path, just_ints = False):\n",
    "  \"\"\"\n",
    "  Find type information and timing data for all hit objects contained in an .osu file\n",
    "  \n",
    "  Inputs:\n",
    "  - osu_path: path to osu metadata file\n",
    "  \n",
    "  Returns three zipped arrays\n",
    "  - note_types: Array of 'slider', 'spinner' and 'circle' strings\n",
    "  - note_times: Array of integers, representing time in ms when note appears (relative to song start)\n",
    "  - note_ints: Array of 32 bit integers written in hex containing relevant note info. See game_code/notes.md for more info\n",
    "  \"\"\"\n",
    "  start_str = '[HitObjects]'\n",
    "  #csv_fields = 'x,y,time,type,hitSound,objectParams,hitSample'.split(',') # from the wiki\n",
    "  note_types = []\n",
    "  note_times = []\n",
    "  note_ints = []\n",
    "  with open(osu_path, 'r') as map_file:\n",
    "    content = map_file.read()\n",
    "    #print(content.find(start_str))\n",
    "    # see csv_fields comment for how hit objects are parameterized\n",
    "    hit_objects = content[content.find(start_str)+len(start_str)+1:].split('\\n') # extract hit objects\n",
    "    #print(len(hit_objects))\n",
    "    # for now, just time and circle/slider class\n",
    "    for hit_object in hit_objects:\n",
    "      if len(hit_object)>5: # there will always be at least 6 params\n",
    "        hit_object_fields = hit_object.split(',')\n",
    "        #print(hit_object_fields)\n",
    "        ms, note_type = hit_object_fields[2],hit_object_fields[3]\n",
    "        note_types.append(classify_object(int(note_type)))\n",
    "        note_times.append(int(ms))\n",
    "  # creating note_ints\n",
    "  for i in range(len(note_types)):\n",
    "    # !impt\n",
    "    has_been_hit = 0\n",
    "    channel = 0 # 0=L, 1=R\n",
    "    has_repeat_slider = 0\n",
    "    \n",
    "    has_slider = note_types[i]=='slider'\n",
    "    has_spinner = note_types[i]=='spinner'\n",
    "    has_circle = note_types[i]=='circle'\n",
    "\n",
    "    combined_int = has_been_hit<<31 | channel<<30| has_spinner<<29 | has_repeat_slider | has_slider<< 27 | has_circle<<26 | note_times[i]\n",
    "\n",
    "    binary_int = bin(combined_int)[2:].zfill(32)\n",
    "    #print(binary_int)\n",
    "    hex_int_blocks = []\n",
    "    for i in range(8):\n",
    "      bin4 = binary_int[4*i:4*i+4]\n",
    "      hex_int_blocks.append(hex(int('0b'+bin4,2))[2:])\n",
    "    hex_int = '0x'+''.join(hex_int_blocks)\n",
    "    #print(hex_int)\n",
    "    note_ints.append(hex_int)\n",
    "  if just_ints: # programming sin tbh\n",
    "    return note_ints\n",
    "  return list(zip(note_types,note_times,note_ints))\n",
    "  #return pd.read_csv(content)#,usecols=csv_fields)"
   ]
  },
  {
   "cell_type": "code",
   "execution_count": 14,
   "id": "9c0bbc93",
   "metadata": {},
   "outputs": [],
   "source": [
    "song = \"/Users/donu/Desktop/S25/ELEC 327/327-final-proj/oszs/charts/killing-my-love/LESLIE PARRISH - KILLING MY LOVE (Cut Ver.) (Pincus) [Pepekcz's Hard Ryosuke's RX-7 FC].osu\"\n",
    "hitobjs = extract_hit_objects(song)"
   ]
  },
  {
   "cell_type": "code",
   "execution_count": 15,
   "id": "685eae1f",
   "metadata": {},
   "outputs": [
    {
     "name": "stdout",
     "output_type": "stream",
     "text": [
      "328\n",
      "('slider', 1675, '0x0800068b')\n"
     ]
    }
   ],
   "source": [
    "# type conversion\n",
    "print(len(hitobjs))\n",
    "for i in hitobjs:\n",
    "  print(i)\n",
    "  break\n"
   ]
  },
  {
   "cell_type": "code",
   "execution_count": 16,
   "id": "85b96aed",
   "metadata": {},
   "outputs": [
    {
     "data": {
      "text/plain": [
       "True"
      ]
     },
     "execution_count": 16,
     "metadata": {},
     "output_type": "execute_result"
    }
   ],
   "source": [
    "# test deciphering\n",
    "correct = 0\n",
    "for a,b,number in hitobjs:\n",
    "  get_position = int('0b'+'1'*20,2)\n",
    "  number_bin = int(number,16)\n",
    "  correct += (get_position&number_bin)==b\n",
    "correct==len(hitobjs) #if true all good"
   ]
  },
  {
   "cell_type": "code",
   "execution_count": 17,
   "id": "c17dd5a4",
   "metadata": {},
   "outputs": [],
   "source": [
    "to_c_string = lambda x: '{'+', '.join(x)+'}'"
   ]
  },
  {
   "cell_type": "code",
   "execution_count": 18,
   "id": "51c9ed8e",
   "metadata": {},
   "outputs": [],
   "source": [
    "# !impt: where you extract hit objects\n",
    "duvet_path_easy = '../../oszs/charts/duvet/boa - Duvet (TV Size) (Girls Love) [Easy].osu' \n",
    "eta_path_normal = \"../../oszs/charts/ETA/NewJeans - ETA (bielsuu) [miss yo's Normal].osu\"\n",
    "killing_my_love_normal = \"../../oszs/charts/killing-my-love/LESLIE PARRISH - KILLING MY LOVE (Cut Ver.) (Pincus) [Kirishima-'s Normal Bunta's Impreza].osu\""
   ]
  },
  {
   "cell_type": "code",
   "execution_count": 19,
   "id": "8783b6e0",
   "metadata": {},
   "outputs": [],
   "source": [
    "# add more songs as needed\n",
    "hitobjs_boa = extract_hit_objects(duvet_path_easy, just_ints=True)\n",
    "hitobjs_eta = extract_hit_objects(eta_path_normal, just_ints=True)\n",
    "killing_my_love_normal = extract_hit_objects(killing_my_love_normal, just_ints=True)\n",
    "# the results\n",
    "boa_res = to_c_string(hitobjs_boa)\n",
    "eta_res = to_c_string(hitobjs_eta)\n",
    "killing_my_love_res = to_c_string(killing_my_love_normal) "
   ]
  },
  {
   "cell_type": "code",
   "execution_count": 20,
   "id": "312b7fe9",
   "metadata": {},
   "outputs": [
    {
     "data": {
      "text/plain": [
       "'{0x08000776, 0x04000bd1, 0x04000d10, 0x08000eee, 0x080013f0, 0x080017bd, 0x04001e07, 0x04001feb, 0x0400212e, 0x04002312, 0x08002592, 0x04002959, 0x08002a9c, 0x04002f9c, 0x0400317d, 0x0800335f, 0x08003863, 0x04003c26, 0x08003d67, 0x08003fe9, 0x0400464b, 0x0800478d, 0x04004b53, 0x08004dd7, 0x04005235, 0x04005375, 0x08005554, 0x04005a67, 0x08005ba9, 0x080061f3, 0x080065b4, 0x04006a0b, 0x08006bfa, 0x08006fc9, 0x080074de, 0x040078a7, 0x080079e9, 0x0400801d, 0x040082a1, 0x08008525, 0x080088eb, 0x04008f36, 0x08009078, 0x0800943e, 0x08009804, 0x08009a89, 0x0400a088, 0x2000a2f0, 0x0400b734, 0x0800b9b6, 0x0800bd79, 0x0400c279, 0x0400c3ba, 0x0800c63b, 0x0400cb4a, 0x2000cdcc, 0x0800e97b, 0x0400f0f5, 0x0400f38e, 0x0800f4d0, 0x0400f896, 0x0800f9d8, 0x04010022, 0x040102a7, 0x080103e9, 0x080108f1, 0x08010cb7, 0x0801107e, 0x080116c8, 0x04011d13, 0x08011e55, 0x0801221b, 0x04012866, 0x04012aea, 0x08012c26, 0x0801311c, 0x080134e2, 0x200138a8}'"
      ]
     },
     "execution_count": 20,
     "metadata": {},
     "output_type": "execute_result"
    }
   ],
   "source": [
    "boa_res"
   ]
  },
  {
   "cell_type": "code",
   "execution_count": 25,
   "id": "0c11c490",
   "metadata": {},
   "outputs": [
    {
     "name": "stdout",
     "output_type": "stream",
     "text": [
      "78\n"
     ]
    }
   ],
   "source": [
    "print(len(boa_res.split(',')))"
   ]
  },
  {
   "cell_type": "code",
   "execution_count": 22,
   "id": "348bd629",
   "metadata": {},
   "outputs": [
    {
     "data": {
      "text/plain": [
       "'{0x08001d05, 0x08001f9f, 0x0800223a, 0x080025b3, 0x0400276f, 0x0400292c, 0x08002ae8, 0x08002d83, 0x0800301d, 0x08003396, 0x04003553, 0x0400370f, 0x080038cc, 0x08003c45, 0x08003fbd, 0x08004336, 0x080046af, 0x0400486c, 0x04004a28, 0x08004b06, 0x08004da1, 0x08005493, 0x0400572d, 0x0400580c, 0x080059c8, 0x04005d41, 0x04005efd, 0x040060ba, 0x08006276, 0x04006511, 0x040065ef, 0x080067ac, 0x04006968, 0x08006b25, 0x08006ce1, 0x0800705a, 0x08007216, 0x080073d3, 0x0800774c, 0x08007908, 0x08007ac5, 0x08007e3d, 0x08007ffa, 0x080081b6, 0x08008373, 0x040088a8, 0x04008986, 0x08008a65, 0x04008c21, 0x04008ddd, 0x08008f9a, 0x04009313, 0x040094cf, 0x0800968c, 0x04009a05, 0x04009bc1, 0x08009d7d, 0x0400a018, 0x0400a0f6, 0x0400a2b3, 0x0800a46f, 0x0400a70a, 0x0400a7e8, 0x0400a9a5, 0x0800ab61, 0x0800aeda, 0x0800b253, 0x0400b5cc, 0x0400b945, 0x0400bcbd, 0x0800c036, 0x0400c1f3, 0x0800c3af, 0x0800c56c, 0x0400c806, 0x0400c8e5, 0x0800caa1, 0x0800ce1a, 0x0800cfd6, 0x0400d193, 0x0800d34f, 0x0800d50c, 0x0400d6c8, 0x0800d885, 0x0400dbfd, 0x0400dcdc, 0x0800ddba, 0x0400df76, 0x0800e133, 0x0400e3cd, 0x0400e4ac, 0x0800e668, 0x0400e9e1, 0x0400eabf, 0x0800eb9d, 0x0800ed5a, 0x0800ef16, 0x0400f1b1, 0x0400f28f, 0x0800f44c, 0x0400f8a3, 0x0800f981, 0x0400fb3d, 0x0800fcfa, 0x0800feb6, 0x04010073, 0x0801022f, 0x080103ec, 0x040105a8, 0x08010765, 0x04010921, 0x08010add, 0x08010c9a, 0x04010e56, 0x08011013, 0x080111cf, 0x0801138c, 0x04011626, 0x04011705, 0x080118c1, 0x08011a7d, 0x04011c3a, 0x08011df6, 0x08011fb3, 0x0801216f, 0x0401232c, 0x080124e8, 0x080126a5, 0x08012a1d, 0x08012bda, 0x08012e75, 0x0401310f, 0x080132cc, 0x04013566, 0x04013645, 0x08013801, 0x040139bd, 0x08013b7a, 0x08013d36, 0x04013ef3, 0x080140af, 0x0401434a, 0x04014428, 0x080145e5, 0x040147a1, 0x0801495d, 0x08014b1a, 0x04014cd6, 0x08014e93, 0x0801504f, 0x0801520c, 0x08015585, 0x08015741, 0x080158fd, 0x08015c76, 0x08015e33, 0x08015fef, 0x080161ac, 0x040166e1, 0x040167bf, 0x0801689d, 0x04016a5a, 0x04016c16, 0x08016dd3, 0x0401714c, 0x04017308, 0x080174c5, 0x0401783d, 0x040179fa, 0x08017bb6, 0x04017e51, 0x04017f2f, 0x040180ec, 0x080182a8, 0x04018543, 0x04018621, 0x040187dd, 0x0801899a, 0x08018d13, 0x0801908c, 0x04019405, 0x0401977d, 0x04019af6, 0x08019e6f, 0x0401a02c, 0x0801a1e8, 0x0801a3a5, 0x0401a63f, 0x0401a71d, 0x0801a8da, 0x0801ac53, 0x0801ae0f, 0x0401afcc, 0x0801b188, 0x0801b345, 0x0401b501, 0x0801b6bd, 0x0801ba36, 0x0801bbf3, 0x0401bdaf, 0x0801bf6c, 0x0401c206, 0x0401c2e5, 0x0801c4a1, 0x0401c81a, 0x0401c8f8, 0x0801c9d6, 0x0801cb93, 0x0801cd4f, 0x0401cfea, 0x0401d0c8, 0x0801d285, 0x0401d6dc, 0x0801d7ba, 0x0401d976, 0x0801db33, 0x0801dcef, 0x0401deac, 0x0801e068, 0x0801e225, 0x0401e3e1, 0x0801e59d, 0x0401e75a, 0x0801e916, 0x0801ead3, 0x0401ec8f, 0x0801ee4c, 0x0801f008, 0x0801f1c5, 0x0401f45f, 0x0401f53d, 0x0801f6fa, 0x0801f8b6, 0x0401fa73, 0x0801fc2f, 0x0801fdec, 0x0801ffa8, 0x04020165, 0x08020321, 0x080204dd, 0x08020856, 0x08020a13, 0x08020cad, 0x08020f48, 0x04021105, 0x080212c1, 0x0802163a, 0x080217f6, 0x08021b6f, 0x08021d2c, 0x08021ee8, 0x04022261, 0x0802241d, 0x08022953, 0x08022b0f, 0x08022ccc, 0x04023045, 0x08023201, 0x0402357a, 0x04023736, 0x08023815, 0x08023aaf, 0x04023fe5, 0x080241a1, 0x0802451a, 0x040247b5}'"
      ]
     },
     "execution_count": 22,
     "metadata": {},
     "output_type": "execute_result"
    }
   ],
   "source": [
    "eta_res"
   ]
  },
  {
   "cell_type": "code",
   "execution_count": 24,
   "id": "9759c28d",
   "metadata": {},
   "outputs": [
    {
     "name": "stdout",
     "output_type": "stream",
     "text": [
      "266\n"
     ]
    }
   ],
   "source": [
    "print(len(eta_res.split(',')))"
   ]
  },
  {
   "cell_type": "code",
   "execution_count": 23,
   "id": "5156a7c3",
   "metadata": {},
   "outputs": [
    {
     "data": {
      "text/plain": [
       "'{0x0800068b, 0x0800080a, 0x04000b08, 0x08000c87, 0x08000e06, 0x08001103, 0x04001282, 0x040017be, 0x0800187e, 0x04001cfb, 0x08001e79, 0x04002177, 0x040022f6, 0x08002475, 0x040028f2, 0x08002a71, 0x04002d6e, 0x04002eed, 0x0800306c, 0x040032ab, 0x0800336a, 0x08003668, 0x080038a6, 0x04003ae4, 0x08003c63, 0x04003ea2, 0x08003f61, 0x0800425f, 0x0800449d, 0x040046dc, 0x0800485b, 0x040049dc, 0x04004a9c, 0x08004eb0, 0x08005331, 0x080054b1, 0x04005813, 0x08005933, 0x08005ab3, 0x08005f35, 0x080060b5, 0x04006417, 0x08006537, 0x080066b7, 0x080068f8, 0x08006b39, 0x08006cb9, 0x0400701a, 0x0800713b, 0x080072bb, 0x080074fc, 0x0800773d, 0x080078bd, 0x04007c1e, 0x08007d3f, 0x08007ebf, 0x08008100, 0x08008341, 0x080084c1, 0x080090c5, 0x08009306, 0x08009547, 0x040096c7, 0x04009848, 0x08009908, 0x08009b49, 0x08009cc9, 0x08009f0a, 0x0800a14b, 0x0400a2cb, 0x0400a44c, 0x0800a50c, 0x0800a74d, 0x0800a8cd, 0x0800ab0e, 0x0800ad4f, 0x0400aecf, 0x0400b04f, 0x0800b110, 0x0800b350, 0x0800b4d1, 0x0800b712, 0x0800b952, 0x0400bad3, 0x0400bc53, 0x0800bd14, 0x0800bf54, 0x0800c0d5, 0x0800c316, 0x0800c556, 0x0400c6d7, 0x0800c857, 0x0400ca98, 0x0400cc19, 0x0800ccd9, 0x0400d15a, 0x0800d21b, 0x0400d45b, 0x0400d5dc, 0x0800d75c, 0x0400d99d, 0x0800da5d, 0x0400dbde, 0x0400dc9e, 0x0800de1f, 0x0400e2a0, 0x0800e360, 0x0800e4e1, 0x0400e721, 0x0400e7e2, 0x0400e962, 0x0800ea22, 0x0800ec63, 0x0400ede4, 0x0400ef64, 0x0400f024, 0x0400f1a5, 0x0800f265, 0x0400f4a6, 0x0800f626, 0x0400f867, 0x0400f9e8, 0x0400fb68, 0x0800fce9, 0x0800fe69, 0x0400ffea, 0x040100aa, 0x0801022a, 0x0801046b, 0x040105ec, 0x040106ac, 0x0401082c, 0x080108ed, 0x04010bee, 0x08010cae, 0x08010e2e, 0x0401106f, 0x040111ef, 0x04011370, 0x080114f0, 0x08011671, 0x040117f1, 0x040118b2, 0x08011a32, 0x08011c73, 0x04011df3, 0x04011eb4, 0x04012034, 0x080120f4, 0x040123f5, 0x080124b6, 0x08012636, 0x04012877, 0x040129f7, 0x04012b78, 0x08012cf8, 0x04012e79, 0x08012f39, 0x0801317a, 0x040132fa, 0x080133bb, 0x0801353b, 0x0401377c, 0x080138fc, 0x04013a7d, 0x08013b3d, 0x04013d7e, 0x08013e3e, 0x08013fbe, 0x0401413f, 0x080142bf, 0x08014440, 0x04014681, 0x08014741, 0x04014982, 0x08014a42, 0x08014bc2, 0x08014d43, 0x08015044, 0x04015285, 0x08015345, 0x04015586, 0x08015646, 0x080157c6, 0x08015947, 0x04015b88, 0x08015d08, 0x04015e89, 0x08015f49, 0x0801618a, 0x0401630a, 0x080163ca, 0x0801654b, 0x0401678c, 0x0801690c, 0x04016a8d, 0x08016b4d, 0x04016d8e, 0x08016e4e, 0x08016fce, 0x0401714f, 0x080172cf, 0x08017450, 0x04017690, 0x08017751, 0x04017991, 0x08017a52, 0x08017bd2, 0x08017d53, 0x04017f93, 0x08018114, 0x04018294, 0x08018355, 0x04018595, 0x08018656, 0x080187d6, 0x08018957, 0x04018b97, 0x08018d18, 0x08018f59, 0x08019199, 0x0401931a, 0x0401949a, 0x0801955b, 0x0801979b, 0x0801991c, 0x08019b5d, 0x08019d9d, 0x04019f1e, 0x0401a09e, 0x0801a15e, 0x0801a39f, 0x0801a520, 0x0801a760, 0x0801a9a1, 0x0401ab22, 0x0401aca2, 0x0801ad62, 0x0801afa3, 0x0801b124, 0x0801b364, 0x0801b5a5, 0x0401b726, 0x0401b8a6, 0x0801b966, 0x0801bba7, 0x0801bd28, 0x0801bf68, 0x0801c1a9, 0x0401c32a, 0x0801c4aa, 0x0401c6eb, 0x0401c86b, 0x0801c92c, 0x0401caac, 0x0801cb6c}'"
      ]
     },
     "execution_count": 23,
     "metadata": {},
     "output_type": "execute_result"
    }
   ],
   "source": [
    "killing_my_love_res"
   ]
  },
  {
   "cell_type": "code",
   "execution_count": null,
   "id": "347b51a7",
   "metadata": {},
   "outputs": [
    {
     "name": "stdout",
     "output_type": "stream",
     "text": [
      "256\n"
     ]
    }
   ],
   "source": [
    "print(len(killing_my_love_res.split(',')))"
   ]
  }
 ],
 "metadata": {
  "kernelspec": {
   "display_name": "base",
   "language": "python",
   "name": "python3"
  },
  "language_info": {
   "codemirror_mode": {
    "name": "ipython",
    "version": 3
   },
   "file_extension": ".py",
   "mimetype": "text/x-python",
   "name": "python",
   "nbconvert_exporter": "python",
   "pygments_lexer": "ipython3",
   "version": "3.11.8"
  }
 },
 "nbformat": 4,
 "nbformat_minor": 5
}
