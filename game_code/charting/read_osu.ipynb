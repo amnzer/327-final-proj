{
 "cells": [
  {
   "cell_type": "markdown",
   "id": "a33a4d72",
   "metadata": {},
   "source": [
    "# Convert Osu to Beet Saber"
   ]
  },
  {
   "cell_type": "markdown",
   "id": "bc62ada0",
   "metadata": {},
   "source": [
    "## 1. Convert .osz to .osu"
   ]
  },
  {
   "cell_type": "code",
   "execution_count": 26,
   "id": "31893b89",
   "metadata": {},
   "outputs": [],
   "source": [
    "# find install dir\n",
    "import os\n",
    "import zipfile\n",
    "from random import randint\n",
    "import subprocess"
   ]
  },
  {
   "cell_type": "code",
   "execution_count": 27,
   "id": "a1996fb8",
   "metadata": {},
   "outputs": [],
   "source": [
    "osz_path = '../../oszs/'\n",
    "unzip_path = '../../oszs/charts/'"
   ]
  },
  {
   "cell_type": "code",
   "execution_count": 28,
   "id": "a2b954d1",
   "metadata": {},
   "outputs": [
    {
     "name": "stdout",
     "output_type": "stream",
     "text": [
      "zeros:  50089\n",
      "ones:  50079\n"
     ]
    }
   ],
   "source": [
    "zeros = 0\n",
    "ones = 1\n",
    "for i in range(100000):\n",
    "  if randint(0,1)==0: zeros+=1\n",
    "  if randint(0,1)==1: ones+=1\n",
    "print(\"zeros: \", zeros)\n",
    "print(\"ones: \", ones)"
   ]
  },
  {
   "cell_type": "code",
   "execution_count": 29,
   "id": "7170a204",
   "metadata": {},
   "outputs": [
    {
     "data": {
      "text/plain": [
       "['../../oszs/fubuki.osz',\n",
       " '../../oszs/killing-my-love.osz',\n",
       " '../../oszs/reality-surf.osz',\n",
       " '../../oszs/ETA.osz',\n",
       " '../../oszs/rockefeller-st.osz',\n",
       " '../../oszs/stupid-horse.osz',\n",
       " '../../oszs/duvet.osz',\n",
       " '../../oszs/running-man.osz']"
      ]
     },
     "execution_count": 29,
     "metadata": {},
     "output_type": "execute_result"
    }
   ],
   "source": [
    "# find all osu zips\n",
    "oszs = [osz_path+x for x in os.listdir(osz_path) if x.endswith('osz')]\n",
    "oszs"
   ]
  },
  {
   "cell_type": "code",
   "execution_count": 30,
   "id": "a592db79",
   "metadata": {},
   "outputs": [],
   "source": [
    "def retain_file(filepath):\n",
    "  \"\"\"Returns if file should be kept\n",
    "  At time of writing, keeps osu metadata files and mp3 files\n",
    "  (wav files are used only for hitsounds (irrelevant))\"\"\"\n",
    "  if not (filepath.endswith('osu') or filepath.endswith('mp3')):\n",
    "    return False\n",
    "  return True"
   ]
  },
  {
   "cell_type": "code",
   "execution_count": 31,
   "id": "ad82cfa3",
   "metadata": {},
   "outputs": [],
   "source": [
    "def keep_file(filepath):\n",
    "  \"\"\"\n",
    "  Tells which files should be kept\n",
    "  \"\"\"\n",
    "  checks = ['easy' in filepath.lower(),\n",
    "            'normal' in filepath.lower(), # realistically not playing hards or higher\n",
    "            #'hard' in filepath.lower(), \n",
    "            #'insane' in filepath.lower(),\n",
    "            #'extra' in filepath.lower(),\n",
    "            #'expert' in filepath.lower(),\n",
    "            'audio.mp3' in filepath,\n",
    "            'kantan' in filepath.lower(),\n",
    "            'futsuu' in filepath.lower(),\n",
    "            #'muzukashii' in filepath.lower(),\n",
    "            #'oni'\n",
    "            ]\n",
    "  # !impt: taiko diffs are like so: kantan, futsuu, muzukashii, oni\n",
    "  \n",
    "  return ((True in checks) and ('.wav' not in filepath))"
   ]
  },
  {
   "cell_type": "code",
   "execution_count": 32,
   "id": "d88ea76c",
   "metadata": {},
   "outputs": [],
   "source": [
    "%%script false --no-raise-error\n",
    "# ^ disabled unless you want to add new songs\n",
    "# unzip them. how?\n",
    "# # make dir per song\n",
    "# # retain metadata and audio\n",
    "os.makedirs(unzip_path, exist_ok=True)\n",
    "for osz in oszs:\n",
    "  songname = osz.split('/')[-1].split('.')[0]\n",
    "  save_path = unzip_path+songname+'/'\n",
    "  with zipfile.ZipFile(osz, 'r') as zip_ref:\n",
    "    zip_ref.extractall(save_path)\n",
    "\n",
    "# delete unneeded files:\n",
    "# # subdirs is minimal directory paths (e.g. killing-my-love, duvet w.o. abspath)\n",
    "subdirs = [entry for entry in os.listdir(unzip_path) if os.path.isdir(os.path.join(unzip_path, entry))]\n",
    "for subdir in subdirs:\n",
    "  dirpath = os.path.join(unzip_path,subdir)\n",
    "  for file in os.listdir(dirpath):\n",
    "    if not keep_file(file):\n",
    "      os.remove(os.path.join(dirpath,file))\n",
    "\n",
    "# normalize audio files (slow)\n",
    "subprocess.run('../normalize.sh')"
   ]
  },
  {
   "cell_type": "markdown",
   "id": "538f3fdc",
   "metadata": {},
   "source": [
    "## 2. Extract Hit Objects from .osu"
   ]
  },
  {
   "cell_type": "code",
   "execution_count": 33,
   "id": "74db52a3",
   "metadata": {},
   "outputs": [],
   "source": [
    "# wiki is extremely well documented\n",
    "# # https://osu.ppy.sh/wiki/en/Client/File_formats/osu_%28file_format%29#type:~:text=Slider%20border%20colour-,Hit%20objects,-Hit%20object%20syntax"
   ]
  },
  {
   "cell_type": "code",
   "execution_count": 34,
   "id": "ae098d03",
   "metadata": {},
   "outputs": [],
   "source": [
    "example_song = os.path.join(unzip_path,'lovenote')"
   ]
  },
  {
   "cell_type": "code",
   "execution_count": 35,
   "id": "302bc637",
   "metadata": {},
   "outputs": [],
   "source": [
    "#example_osu_dir = os.listdir(example_song)\n",
    "#example_osu_dir"
   ]
  },
  {
   "cell_type": "code",
   "execution_count": 36,
   "id": "cd98b0ed",
   "metadata": {},
   "outputs": [],
   "source": [
    "def classify_object(flag):\n",
    "  \"\"\"\n",
    "  Derive object type from osu's binary flags\n",
    "  \n",
    "  Simplied representation:\n",
    "  - 'circle'\n",
    "  - 'slider'\n",
    "  - 'spinner'\n",
    "  \n",
    "  \"\"\"\n",
    "  # 0 bit indiates slider\n",
    "  circle = (flag & 1) != 0 # check neq 0 not eq 1 b/c bit shift\n",
    "  slider = (flag & 1<<1) != 0\n",
    "  spinner = (flag & 1<<3) != 0\n",
    "  \n",
    "  if circle+slider+spinner>1:\n",
    "    print(\"Whaaat\")\n",
    "  if circle: \n",
    "    return 'circle'\n",
    "  if slider: \n",
    "    return 'slider'\n",
    "  if spinner: \n",
    "    return 'spinner'\n",
    "  print(f\"Something is wrong in object classification. Recieved flag: {flag}\")\n",
    "  return None"
   ]
  },
  {
   "cell_type": "markdown",
   "id": "87ae4d1f",
   "metadata": {},
   "source": [
    "A quick note about taiko. Besides naming convention for difficulties, taiko and osu!std objects are stored identically. hype"
   ]
  },
  {
   "cell_type": "code",
   "execution_count": 37,
   "id": "8aec43c4",
   "metadata": {},
   "outputs": [],
   "source": [
    "def extract_hit_objects(osu_path, just_ints = False):\n",
    "  \"\"\"\n",
    "  Find type information and timing data for all hit objects contained in an .osu file\n",
    "  \n",
    "  Inputs:\n",
    "  - osu_path: path to osu metadata file\n",
    "  \n",
    "  Returns three zipped arrays\n",
    "  - note_types: Array of 'slider', 'spinner' and 'circle' strings\n",
    "  - note_times: Array of integers, representing time in ms when note appears (relative to song start)\n",
    "  - note_ints: Array of 32 bit integers written in hex containing relevant note info. See game_code/notes.md for more info\n",
    "  \"\"\"\n",
    "  start_str = '[HitObjects]'\n",
    "  #csv_fields = 'x,y,time,type,hitSound,objectParams,hitSample'.split(',') # from the wiki\n",
    "  note_types = []\n",
    "  note_times = []\n",
    "  note_ints = []\n",
    "  with open(osu_path, 'r') as map_file:\n",
    "    content = map_file.read()\n",
    "    #print(content.find(start_str))\n",
    "    # see csv_fields comment for how hit objects are parameterized\n",
    "    hit_objects = content[content.find(start_str)+len(start_str)+1:].split('\\n') # extract hit objects\n",
    "    #print(len(hit_objects))\n",
    "    # for now, just time and circle/slider class\n",
    "    for hit_object in hit_objects:\n",
    "      if len(hit_object)>5: # there will always be at least 6 params\n",
    "        hit_object_fields = hit_object.split(',')\n",
    "        #print(hit_object_fields)\n",
    "        ms, note_type = hit_object_fields[2],hit_object_fields[3]\n",
    "        note_types.append(classify_object(int(note_type)))\n",
    "        note_times.append(int(ms))\n",
    "  # creating note_ints\n",
    "  for i in range(len(note_types)):\n",
    "    # !impt\n",
    "    has_been_hit = 0\n",
    "    channel = randint(0,1) # 0=L, 1=R\n",
    "    has_repeat_slider = 0\n",
    "    \n",
    "    has_slider = note_types[i]=='slider'\n",
    "    has_spinner = note_types[i]=='spinner'\n",
    "    has_circle = note_types[i]=='circle'\n",
    "\n",
    "    combined_int = has_been_hit<<31 | channel<<30| has_spinner<<29 | has_repeat_slider | has_slider<< 27 | has_circle<<26 | note_times[i]\n",
    "\n",
    "    binary_int = bin(combined_int)[2:].zfill(32)\n",
    "    #print(binary_int)\n",
    "    hex_int_blocks = []\n",
    "    for i in range(8):\n",
    "      bin4 = binary_int[4*i:4*i+4]\n",
    "      hex_int_blocks.append(hex(int('0b'+bin4,2))[2:])\n",
    "    hex_int = '0x'+''.join(hex_int_blocks)\n",
    "    #print(hex_int)\n",
    "    note_ints.append(hex_int)\n",
    "  if just_ints: # programming sin tbh\n",
    "    return note_ints\n",
    "  return list(zip(note_types,note_times,note_ints))\n",
    "  #return pd.read_csv(content)#,usecols=csv_fields)"
   ]
  },
  {
   "cell_type": "code",
   "execution_count": 38,
   "id": "9c0bbc93",
   "metadata": {},
   "outputs": [],
   "source": [
    "song = \"../../oszs/charts/killing-my-love/LESLIE PARRISH - KILLING MY LOVE (Cut Ver.) (Pincus) [Kirishima-'s Normal Bunta's Impreza].osu\"\n",
    "hitobjs = extract_hit_objects(song)"
   ]
  },
  {
   "cell_type": "code",
   "execution_count": 39,
   "id": "685eae1f",
   "metadata": {},
   "outputs": [
    {
     "name": "stdout",
     "output_type": "stream",
     "text": [
      "256\n",
      "('slider', 1675, '0x4800068b')\n"
     ]
    }
   ],
   "source": [
    "# type conversion\n",
    "print(len(hitobjs))\n",
    "for i in hitobjs:\n",
    "  print(i)\n",
    "  break\n"
   ]
  },
  {
   "cell_type": "code",
   "execution_count": 40,
   "id": "85b96aed",
   "metadata": {},
   "outputs": [
    {
     "data": {
      "text/plain": [
       "True"
      ]
     },
     "execution_count": 40,
     "metadata": {},
     "output_type": "execute_result"
    }
   ],
   "source": [
    "# test deciphering\n",
    "correct = 0\n",
    "for a,b,number in hitobjs:\n",
    "  get_position = int('0b'+'1'*20,2)\n",
    "  number_bin = int(number,16)\n",
    "  correct += (get_position&number_bin)==b\n",
    "correct==len(hitobjs) #if true all good"
   ]
  },
  {
   "cell_type": "code",
   "execution_count": 41,
   "id": "c17dd5a4",
   "metadata": {},
   "outputs": [],
   "source": [
    "to_c_string = lambda x: '{'+', '.join(x)+'}'"
   ]
  },
  {
   "cell_type": "code",
   "execution_count": 42,
   "id": "51c9ed8e",
   "metadata": {},
   "outputs": [],
   "source": [
    "# !impt: where you extract hit objects \n",
    "duvet = '../../oszs/charts/duvet/boa - Duvet (TV Size) (Girls Love) [Easy].osu' \n",
    "eta = \"../../oszs/charts/ETA/NewJeans - ETA (bielsuu) [miss yo's Normal].osu\"\n",
    "killing_my_love = \"../../oszs/charts/killing-my-love/LESLIE PARRISH - KILLING MY LOVE (Cut Ver.) (Pincus) [Kirishima-'s Normal Bunta's Impreza].osu\"\n",
    "stupid_horse = '../../oszs/charts/stupid-horse/100 gecs - stupid horse (hehe) [normal].osu'\n",
    "fubuki = '../../oszs/charts/fubuki/Street - Sakura Fubuki (eiri-) [Normal].osu'\n",
    "reality_surf = '../../oszs/charts/reality-surf/bladee - Reality Surf (Metzo) [kantan].osu'\n",
    "rockefeller = '../../oszs/charts/rockefeller-st/Getter Jaani - Rockefeller Street (Nightcore Mix) (Sotarks) [Akitoshi\\'s Normal].osu'"
   ]
  },
  {
   "cell_type": "code",
   "execution_count": 43,
   "id": "8783b6e0",
   "metadata": {},
   "outputs": [],
   "source": [
    "# add more songs as needed\n",
    "hitobjs_boa = extract_hit_objects(duvet, just_ints=True)\n",
    "hitobjs_eta = extract_hit_objects(eta, just_ints=True)\n",
    "hitobjs_love = extract_hit_objects(killing_my_love, just_ints=True)\n",
    "hitobjs_surf = extract_hit_objects(reality_surf, just_ints=True)\n",
    "hitobjs_fubuki = extract_hit_objects(fubuki, just_ints=True)\n",
    "hitobjs_horse = extract_hit_objects(stupid_horse, just_ints=True)\n",
    "hitobjs_rockefeller = extract_hit_objects(rockefeller, just_ints=True)\n",
    "\n",
    "# the results\n",
    "boa_res = to_c_string(hitobjs_boa)\n",
    "eta_res = to_c_string(hitobjs_eta)\n",
    "killing_my_love_res = to_c_string(hitobjs_love) \n",
    "surf_res = to_c_string(hitobjs_surf)\n",
    "fubuki_res = to_c_string(hitobjs_fubuki)\n",
    "horse_res = to_c_string(hitobjs_horse) \n",
    "rock_res = to_c_string(hitobjs_rockefeller)"
   ]
  },
  {
   "cell_type": "code",
   "execution_count": 44,
   "id": "312b7fe9",
   "metadata": {},
   "outputs": [
    {
     "data": {
      "text/plain": [
       "(78,\n",
       " '{0x08000776, 0x04000bd1, 0x04000d10, 0x48000eee, 0x480013f0, 0x080017bd, 0x44001e07, 0x04001feb, 0x4400212e, 0x44002312, 0x08002592, 0x44002959, 0x48002a9c, 0x04002f9c, 0x0400317d, 0x0800335f, 0x48003863, 0x44003c26, 0x48003d67, 0x48003fe9, 0x0400464b, 0x4800478d, 0x44004b53, 0x08004dd7, 0x44005235, 0x44005375, 0x08005554, 0x44005a67, 0x48005ba9, 0x480061f3, 0x080065b4, 0x04006a0b, 0x48006bfa, 0x08006fc9, 0x480074de, 0x440078a7, 0x080079e9, 0x0400801d, 0x040082a1, 0x08008525, 0x480088eb, 0x04008f36, 0x48009078, 0x4800943e, 0x08009804, 0x08009a89, 0x4400a088, 0x2000a2f0, 0x0400b734, 0x0800b9b6, 0x4800bd79, 0x4400c279, 0x4400c3ba, 0x4800c63b, 0x4400cb4a, 0x6000cdcc, 0x0800e97b, 0x0400f0f5, 0x4400f38e, 0x4800f4d0, 0x4400f896, 0x0800f9d8, 0x04010022, 0x040102a7, 0x080103e9, 0x480108f1, 0x08010cb7, 0x4801107e, 0x480116c8, 0x44011d13, 0x48011e55, 0x0801221b, 0x04012866, 0x44012aea, 0x48012c26, 0x0801311c, 0x080134e2, 0x600138a8}')"
      ]
     },
     "execution_count": 44,
     "metadata": {},
     "output_type": "execute_result"
    }
   ],
   "source": [
    "len(boa_res.split(',')), boa_res"
   ]
  },
  {
   "cell_type": "code",
   "execution_count": 45,
   "id": "348bd629",
   "metadata": {},
   "outputs": [
    {
     "data": {
      "text/plain": [
       "(266,\n",
       " '{0x48001d05, 0x08001f9f, 0x0800223a, 0x480025b3, 0x0400276f, 0x0400292c, 0x48002ae8, 0x48002d83, 0x0800301d, 0x08003396, 0x44003553, 0x0400370f, 0x480038cc, 0x48003c45, 0x08003fbd, 0x08004336, 0x480046af, 0x0400486c, 0x44004a28, 0x48004b06, 0x08004da1, 0x48005493, 0x0400572d, 0x4400580c, 0x080059c8, 0x04005d41, 0x04005efd, 0x440060ba, 0x08006276, 0x44006511, 0x440065ef, 0x080067ac, 0x04006968, 0x48006b25, 0x48006ce1, 0x4800705a, 0x08007216, 0x480073d3, 0x0800774c, 0x48007908, 0x48007ac5, 0x48007e3d, 0x08007ffa, 0x080081b6, 0x08008373, 0x040088a8, 0x44008986, 0x48008a65, 0x44008c21, 0x44008ddd, 0x08008f9a, 0x44009313, 0x040094cf, 0x0800968c, 0x44009a05, 0x04009bc1, 0x08009d7d, 0x4400a018, 0x0400a0f6, 0x4400a2b3, 0x4800a46f, 0x0400a70a, 0x0400a7e8, 0x0400a9a5, 0x4800ab61, 0x0800aeda, 0x0800b253, 0x0400b5cc, 0x4400b945, 0x0400bcbd, 0x4800c036, 0x0400c1f3, 0x4800c3af, 0x0800c56c, 0x4400c806, 0x0400c8e5, 0x4800caa1, 0x4800ce1a, 0x0800cfd6, 0x0400d193, 0x4800d34f, 0x4800d50c, 0x4400d6c8, 0x4800d885, 0x0400dbfd, 0x4400dcdc, 0x4800ddba, 0x4400df76, 0x4800e133, 0x0400e3cd, 0x4400e4ac, 0x4800e668, 0x4400e9e1, 0x0400eabf, 0x4800eb9d, 0x4800ed5a, 0x4800ef16, 0x0400f1b1, 0x4400f28f, 0x4800f44c, 0x4400f8a3, 0x4800f981, 0x0400fb3d, 0x4800fcfa, 0x4800feb6, 0x44010073, 0x4801022f, 0x080103ec, 0x040105a8, 0x48010765, 0x44010921, 0x48010add, 0x08010c9a, 0x04010e56, 0x08011013, 0x080111cf, 0x4801138c, 0x04011626, 0x04011705, 0x480118c1, 0x08011a7d, 0x44011c3a, 0x08011df6, 0x48011fb3, 0x0801216f, 0x4401232c, 0x480124e8, 0x480126a5, 0x08012a1d, 0x48012bda, 0x48012e75, 0x4401310f, 0x080132cc, 0x44013566, 0x44013645, 0x08013801, 0x440139bd, 0x08013b7a, 0x48013d36, 0x04013ef3, 0x480140af, 0x0401434a, 0x44014428, 0x080145e5, 0x440147a1, 0x0801495d, 0x08014b1a, 0x44014cd6, 0x08014e93, 0x4801504f, 0x0801520c, 0x48015585, 0x48015741, 0x480158fd, 0x48015c76, 0x48015e33, 0x48015fef, 0x480161ac, 0x040166e1, 0x440167bf, 0x4801689d, 0x44016a5a, 0x04016c16, 0x48016dd3, 0x0401714c, 0x44017308, 0x080174c5, 0x4401783d, 0x040179fa, 0x08017bb6, 0x44017e51, 0x44017f2f, 0x040180ec, 0x080182a8, 0x44018543, 0x04018621, 0x040187dd, 0x4801899a, 0x08018d13, 0x4801908c, 0x04019405, 0x0401977d, 0x04019af6, 0x08019e6f, 0x4401a02c, 0x4801a1e8, 0x4801a3a5, 0x0401a63f, 0x4401a71d, 0x0801a8da, 0x4801ac53, 0x0801ae0f, 0x4401afcc, 0x4801b188, 0x4801b345, 0x4401b501, 0x4801b6bd, 0x4801ba36, 0x0801bbf3, 0x4401bdaf, 0x0801bf6c, 0x4401c206, 0x0401c2e5, 0x0801c4a1, 0x4401c81a, 0x0401c8f8, 0x4801c9d6, 0x4801cb93, 0x0801cd4f, 0x4401cfea, 0x0401d0c8, 0x4801d285, 0x4401d6dc, 0x4801d7ba, 0x4401d976, 0x4801db33, 0x0801dcef, 0x0401deac, 0x4801e068, 0x0801e225, 0x4401e3e1, 0x4801e59d, 0x0401e75a, 0x0801e916, 0x4801ead3, 0x4401ec8f, 0x0801ee4c, 0x0801f008, 0x0801f1c5, 0x4401f45f, 0x0401f53d, 0x4801f6fa, 0x0801f8b6, 0x4401fa73, 0x4801fc2f, 0x0801fdec, 0x0801ffa8, 0x04020165, 0x48020321, 0x480204dd, 0x08020856, 0x08020a13, 0x08020cad, 0x08020f48, 0x44021105, 0x480212c1, 0x0802163a, 0x080217f6, 0x48021b6f, 0x08021d2c, 0x08021ee8, 0x04022261, 0x4802241d, 0x48022953, 0x08022b0f, 0x48022ccc, 0x44023045, 0x48023201, 0x4402357a, 0x44023736, 0x08023815, 0x48023aaf, 0x44023fe5, 0x480241a1, 0x0802451a, 0x440247b5}')"
      ]
     },
     "execution_count": 45,
     "metadata": {},
     "output_type": "execute_result"
    }
   ],
   "source": [
    "len(eta_res.split(',')), eta_res"
   ]
  },
  {
   "cell_type": "code",
   "execution_count": 46,
   "id": "9759c28d",
   "metadata": {},
   "outputs": [
    {
     "data": {
      "text/plain": [
       "(256,\n",
       " '{0x0800068b, 0x4800080a, 0x44000b08, 0x08000c87, 0x48000e06, 0x48001103, 0x04001282, 0x040017be, 0x0800187e, 0x04001cfb, 0x08001e79, 0x04002177, 0x440022f6, 0x48002475, 0x040028f2, 0x08002a71, 0x04002d6e, 0x44002eed, 0x4800306c, 0x040032ab, 0x0800336a, 0x08003668, 0x480038a6, 0x04003ae4, 0x48003c63, 0x44003ea2, 0x48003f61, 0x4800425f, 0x0800449d, 0x040046dc, 0x0800485b, 0x040049dc, 0x04004a9c, 0x08004eb0, 0x48005331, 0x480054b1, 0x44005813, 0x08005933, 0x48005ab3, 0x08005f35, 0x080060b5, 0x44006417, 0x08006537, 0x080066b7, 0x080068f8, 0x48006b39, 0x08006cb9, 0x4400701a, 0x0800713b, 0x480072bb, 0x480074fc, 0x0800773d, 0x080078bd, 0x44007c1e, 0x48007d3f, 0x48007ebf, 0x08008100, 0x48008341, 0x480084c1, 0x080090c5, 0x08009306, 0x08009547, 0x040096c7, 0x44009848, 0x08009908, 0x08009b49, 0x08009cc9, 0x08009f0a, 0x4800a14b, 0x4400a2cb, 0x0400a44c, 0x0800a50c, 0x0800a74d, 0x0800a8cd, 0x4800ab0e, 0x4800ad4f, 0x0400aecf, 0x0400b04f, 0x4800b110, 0x0800b350, 0x0800b4d1, 0x0800b712, 0x4800b952, 0x0400bad3, 0x0400bc53, 0x4800bd14, 0x0800bf54, 0x0800c0d5, 0x4800c316, 0x4800c556, 0x4400c6d7, 0x4800c857, 0x0400ca98, 0x0400cc19, 0x0800ccd9, 0x4400d15a, 0x0800d21b, 0x0400d45b, 0x4400d5dc, 0x0800d75c, 0x4400d99d, 0x4800da5d, 0x4400dbde, 0x0400dc9e, 0x0800de1f, 0x0400e2a0, 0x0800e360, 0x4800e4e1, 0x4400e721, 0x0400e7e2, 0x4400e962, 0x4800ea22, 0x4800ec63, 0x0400ede4, 0x4400ef64, 0x0400f024, 0x0400f1a5, 0x4800f265, 0x0400f4a6, 0x4800f626, 0x0400f867, 0x4400f9e8, 0x4400fb68, 0x0800fce9, 0x4800fe69, 0x4400ffea, 0x040100aa, 0x0801022a, 0x0801046b, 0x040105ec, 0x040106ac, 0x4401082c, 0x480108ed, 0x04010bee, 0x08010cae, 0x48010e2e, 0x0401106f, 0x040111ef, 0x04011370, 0x080114f0, 0x48011671, 0x440117f1, 0x440118b2, 0x08011a32, 0x48011c73, 0x04011df3, 0x44011eb4, 0x44012034, 0x480120f4, 0x040123f5, 0x480124b6, 0x08012636, 0x44012877, 0x440129f7, 0x44012b78, 0x48012cf8, 0x04012e79, 0x08012f39, 0x4801317a, 0x440132fa, 0x480133bb, 0x4801353b, 0x4401377c, 0x480138fc, 0x44013a7d, 0x08013b3d, 0x44013d7e, 0x48013e3e, 0x08013fbe, 0x4401413f, 0x480142bf, 0x48014440, 0x04014681, 0x48014741, 0x44014982, 0x08014a42, 0x48014bc2, 0x08014d43, 0x08015044, 0x44015285, 0x08015345, 0x04015586, 0x08015646, 0x080157c6, 0x08015947, 0x04015b88, 0x08015d08, 0x44015e89, 0x48015f49, 0x4801618a, 0x4401630a, 0x080163ca, 0x0801654b, 0x4401678c, 0x0801690c, 0x44016a8d, 0x08016b4d, 0x44016d8e, 0x08016e4e, 0x48016fce, 0x0401714f, 0x480172cf, 0x48017450, 0x44017690, 0x48017751, 0x44017991, 0x08017a52, 0x48017bd2, 0x08017d53, 0x44017f93, 0x08018114, 0x44018294, 0x48018355, 0x44018595, 0x08018656, 0x480187d6, 0x48018957, 0x04018b97, 0x08018d18, 0x48018f59, 0x08019199, 0x4401931a, 0x0401949a, 0x0801955b, 0x4801979b, 0x4801991c, 0x48019b5d, 0x48019d9d, 0x44019f1e, 0x0401a09e, 0x4801a15e, 0x0801a39f, 0x4801a520, 0x0801a760, 0x4801a9a1, 0x0401ab22, 0x0401aca2, 0x4801ad62, 0x4801afa3, 0x0801b124, 0x4801b364, 0x4801b5a5, 0x0401b726, 0x0401b8a6, 0x0801b966, 0x4801bba7, 0x0801bd28, 0x4801bf68, 0x4801c1a9, 0x4401c32a, 0x4801c4aa, 0x0401c6eb, 0x0401c86b, 0x0801c92c, 0x4401caac, 0x0801cb6c}')"
      ]
     },
     "execution_count": 46,
     "metadata": {},
     "output_type": "execute_result"
    }
   ],
   "source": [
    "len(killing_my_love_res.split(',')), killing_my_love_res"
   ]
  },
  {
   "cell_type": "code",
   "execution_count": 47,
   "id": "5156a7c3",
   "metadata": {},
   "outputs": [
    {
     "data": {
      "text/plain": [
       "(193,\n",
       " '{0x0400030c, 0x040005fa, 0x040008e8, 0x04000ec4, 0x440011b2, 0x040014a0, 0x04001a7c, 0x04001d6a, 0x04002058, 0x44002634, 0x04002922, 0x04002c10, 0x440031ec, 0x440034da, 0x44003651, 0x440037c8, 0x04003ab6, 0x44003da4, 0x04004092, 0x04004209, 0x44004380, 0x4400466e, 0x0400495c, 0x44004dc1, 0x44004f38, 0x440050af, 0x04005226, 0x44005514, 0x04005979, 0x04005af0, 0x44005dde, 0x04005f55, 0x040060cc, 0x44006531, 0x440066a8, 0x4400681f, 0x04006996, 0x04006c84, 0x04006f72, 0x440070e9, 0x04007260, 0x4400754e, 0x040076c5, 0x4400783c, 0x04007b2a, 0x44007ca1, 0x04007e18, 0x04008106, 0x4400827d, 0x040083f4, 0x040089d0, 0x44008b47, 0x04008fac, 0x0400929a, 0x04009588, 0x440096ff, 0x04009876, 0x04009b64, 0x04009e52, 0x0400a140, 0x4400a2b7, 0x4400a42e, 0x4400a5a5, 0x4400a71c, 0x4400acf8, 0x0400ae6f, 0x0400afe6, 0x0400b2d4, 0x0400b739, 0x4400b8b0, 0x4400ba27, 0x4400bb9e, 0x4400bd15, 0x0400be8c, 0x4400c17a, 0x4400c2f1, 0x4400c756, 0x0400c8cd, 0x0400cbbb, 0x0400cd32, 0x0400cea9, 0x4400d020, 0x4400d30e, 0x4400d485, 0x4400d5fc, 0x4400d8ea, 0x4400dbd8, 0x4400dd4f, 0x4400dec6, 0x0400e03d, 0x4400e1b4, 0x4400e4a2, 0x0400e619, 0x4400e790, 0x4400e907, 0x4400ea7e, 0x4400f05a, 0x0400f348, 0x0400f4bf, 0x0400f636, 0x4400f7ad, 0x0400f924, 0x4400fc12, 0x4400ff00, 0x44010077, 0x440101ee, 0x04010365, 0x040104dc, 0x040107ca, 0x44010ab8, 0x04010c2f, 0x04010da6, 0x04010f1d, 0x44011094, 0x44011382, 0x040114f9, 0x0401195e, 0x44011c4c, 0x440120b1, 0x44012228, 0x04012516, 0x0401268d, 0x04012804, 0x04012de0, 0x04012f57, 0x440130ce, 0x04013245, 0x040133bc, 0x040136aa, 0x44013998, 0x44013b0f, 0x04013c86, 0x44013dfd, 0x44013f74, 0x44014262, 0x040143d9, 0x44014550, 0x440146c7, 0x0401483e, 0x04014b2c, 0x44014e1a, 0x04014f91, 0x44015108, 0x040156e4, 0x440159d2, 0x44015b49, 0x44015cc0, 0x44015fae, 0x0401629c, 0x4401658a, 0x44016878, 0x04016b66, 0x44016e54, 0x44017430, 0x44017a0c, 0x44017cfa, 0x04017fe8, 0x4401815f, 0x040182d6, 0x040185c4, 0x440188b2, 0x04018ba0, 0x04018d17, 0x04018e8e, 0x4401917c, 0x44019758, 0x040198cf, 0x04019a46, 0x04019d34, 0x4401a022, 0x0401a310, 0x4401a487, 0x0401a5fe, 0x0401a775, 0x0401a8ec, 0x0401abda, 0x4401ad51, 0x4401b1b6, 0x0401b4a4, 0x4401b792, 0x4401b9c4, 0x0401bd6e, 0x4401c05c, 0x4401c34a, 0x4401c4c1, 0x4401c926, 0x4401cc14, 0x0401cf02, 0x0401d134, 0x0401d4de, 0x4401d7cc, 0x4401daba, 0x4401dc31}')"
      ]
     },
     "execution_count": 47,
     "metadata": {},
     "output_type": "execute_result"
    }
   ],
   "source": [
    "len(surf_res.split(',')), surf_res"
   ]
  },
  {
   "cell_type": "code",
   "execution_count": 48,
   "id": "347b51a7",
   "metadata": {},
   "outputs": [
    {
     "data": {
      "text/plain": [
       "(219,\n",
       " '{0x0400015e, 0x44000967, 0x04000b69, 0x040016cb, 0x04001ed4, 0x440020d6, 0x48002c39, 0x44002e3b, 0x48002ee7, 0x4400303e, 0x48003194, 0x08003442, 0x44003644, 0x080036f0, 0x4800399e, 0x44003ba0, 0x08003c4b, 0x04003ef9, 0x08003fa4, 0x040041a7, 0x440042fe, 0x04004454, 0x440045ab, 0x08004702, 0x48004859, 0x480049b0, 0x44004b07, 0x48004c5e, 0x04005062, 0x080051b9, 0x48005310, 0x44005467, 0x080055be, 0x04005714, 0x440057c0, 0x44005917, 0x040059c3, 0x04005b18, 0x04005bc4, 0x04005d1b, 0x44005dc7, 0x08005f1e, 0x04006074, 0x48006120, 0x04006479, 0x480065d0, 0x44006727, 0x4800687e, 0x440069d4, 0x48006a80, 0x04006c82, 0x48006dd9, 0x44006f30, 0x04007087, 0x44007132, 0x480071de, 0x0400748b, 0x08007537, 0x4800768e, 0x08007890, 0x040079e7, 0x08007b3e, 0x04007c94, 0x08007deb, 0x44007f42, 0x04008099, 0x44008144, 0x080081f0, 0x0800849e, 0x440085f4, 0x480086a0, 0x0800894e, 0x08008aa4, 0x08008bfb, 0x44008f54, 0x480090ab, 0x44009202, 0x08009359, 0x440094af, 0x4800955b, 0x0400975d, 0x080098b4, 0x44009a0b, 0x44009b62, 0x44009c0d, 0x48009cb9, 0x04009f66, 0x4800a012, 0x4800a169, 0x4800a36b, 0x0400a4c2, 0x0800a619, 0x0400a770, 0x4400a8c7, 0x0800aa1e, 0x4400ab74, 0x0800accb, 0x0400aecd, 0x4800af79, 0x0400b0cf, 0x0800b227, 0x0800b4d4, 0x4800b62b, 0x4400b782, 0x0400bc32, 0x4400c18e, 0x0400c6e9, 0x4400ccf0, 0x0400d1a0, 0x0400d6fb, 0x0400dc57, 0x4800e25e, 0x0400e5b7, 0x4800e70e, 0x0400e9bb, 0x4800ea67, 0x4400ec69, 0x0800ed14, 0x4400efc2, 0x0800f06e, 0x0800f270, 0x4400f51e, 0x4800f5c9, 0x4400f7cb, 0x0400f922, 0x4400fa79, 0x4800fbd0, 0x0400fd27, 0x4400fe7e, 0x4800ffd4, 0x4801012b, 0x04010282, 0x040103d9, 0x04010530, 0x040105db, 0x48010687, 0x040107de, 0x04010934, 0x08010a8b, 0x44010be2, 0x48010d39, 0x04011092, 0x4401113e, 0x48011294, 0x480113eb, 0x04011699, 0x08011744, 0x44011947, 0x48011a9e, 0x44011bf4, 0x08011ca0, 0x04011ea2, 0x48011ff9, 0x04012150, 0x480122a7, 0x040124a9, 0x04012600, 0x480126ab, 0x08012802, 0x44012a04, 0x48012b5b, 0x08012cb2, 0x08012f60, 0x04013162, 0x4801320e, 0x48013410, 0x04013567, 0x080136be, 0x04013815, 0x480138c0, 0x04013ac2, 0x04013c19, 0x08013cc4, 0x44013ec7, 0x0401401e, 0x080140c9, 0x44014220, 0x080142cb, 0x440144ce, 0x44014624, 0x080146d0, 0x04014827, 0x0801497e, 0x04014b80, 0x48014c2b, 0x48014d82, 0x04014f84, 0x040150db, 0x08015187, 0x480152de, 0x440154e0, 0x08015637, 0x4401578e, 0x08015839, 0x04015a3b, 0x04015b92, 0x48015c3e, 0x44015d94, 0x44015eeb, 0x08016042, 0x08016199, 0x040162f0, 0x040167a0, 0x44016cfb, 0x04017257, 0x0401785e, 0x04017d0e, 0x44018269, 0x440187c4, 0x04018dcb, 0x4401927b, 0x440197d6, 0x04019d32, 0x0401a339, 0x4401a7e9, 0x0401ad44, 0x4401b29f, 0x4801b750, 0x4801b8a7}')"
      ]
     },
     "execution_count": 48,
     "metadata": {},
     "output_type": "execute_result"
    }
   ],
   "source": [
    "len(fubuki_res.split(',')), fubuki_res"
   ]
  },
  {
   "cell_type": "code",
   "execution_count": 49,
   "id": "a0d919eb",
   "metadata": {},
   "outputs": [
    {
     "data": {
      "text/plain": [
       "(182,\n",
       " '{0x04001410, 0x080014c2, 0x040016da, 0x0800183f, 0x48001c6e, 0x04001e86, 0x04001f39, 0x4800209e, 0x48002368, 0x48002798, 0x440029af, 0x04002a62, 0x08002bc7, 0x48002e91, 0x480032c1, 0x040034d8, 0x0400358b, 0x480036f0, 0x080039ba, 0x08003dea, 0x04004002, 0x440040b4, 0x4400437e, 0x040044e4, 0x44004596, 0x48004649, 0x44004913, 0x04004a79, 0x04004b2b, 0x48004bde, 0x08004ea8, 0x480052d7, 0x4800543c, 0x48005706, 0x440059d1, 0x44005b36, 0x04005c9b, 0x44005e00, 0x48005f65, 0x0400617d, 0x08006230, 0x080064fa, 0x48006a8e, 0x48006bf4, 0x48006d59, 0x44006f70, 0x08007023, 0x08007452, 0x480075b8, 0x040079e7, 0x08007b4c, 0x08007f7c, 0x080080e1, 0x04008510, 0x08008675, 0x48008aa5, 0x48008c0a, 0x04009039, 0x4800919e, 0x080095ce, 0x48009733, 0x04009b62, 0x48009cc8, 0x0800a0f7, 0x0800a25c, 0x0400a68c, 0x0800a7f1, 0x4800ac20, 0x0800ad85, 0x0400b1b5, 0x4800b31a, 0x0800b749, 0x0800b8ae, 0x4400bcde, 0x4800be43, 0x0800c272, 0x0800c3d8, 0x0800c807, 0x0400dcf4, 0x4800dda7, 0x0800dfbe, 0x4400e3ee, 0x4800e553, 0x0400e982, 0x4400eae8, 0x4400edb2, 0x4400f07c, 0x4800f346, 0x2000f776, 0x4401013a, 0x4401029f, 0x44010352, 0x48010404, 0x040106ce, 0x04010833, 0x440108e6, 0x08010998, 0x08010c63, 0x08010dc8, 0x48010f2d, 0x08011092, 0x080111f8, 0x4801135d, 0x44011627, 0x0801178c, 0x080118f1, 0x48011a56, 0x08011bbc, 0x08011d21, 0x08011e86, 0x44012150, 0x480122b5, 0x440124cd, 0x48012580, 0x0801284a, 0x44012a62, 0x08012b14, 0x08012dde, 0x44012ff6, 0x480130a9, 0x48013373, 0x0401358b, 0x4801363d, 0x44013908, 0x44013a6d, 0x44013bd2, 0x44013d37, 0x48013e9c, 0x040140b4, 0x48014166, 0x08014431, 0x480149c5, 0x08014b2a, 0x08014c90, 0x04014ea7, 0x48014f5a, 0x48015389, 0x480154ee, 0x0401591e, 0x08015a83, 0x08015eb2, 0x48016018, 0x04016447, 0x480165ac, 0x080169dc, 0x48016b41, 0x04016f70, 0x480170d5, 0x04017bfe, 0x44017d64, 0x44017e16, 0x08017ec9, 0x04018193, 0x040182f9, 0x440183ab, 0x4801845e, 0x48018728, 0x48018b57, 0x08018cbc, 0x48018f86, 0x44019251, 0x040193b6, 0x0401951b, 0x44019680, 0x080197e5, 0x440199fd, 0x48019ab0, 0x08019d7a, 0x4801a30e, 0x0801a474, 0x4801a5d9, 0x0401a7f0, 0x0801a8a3, 0x0801acd2, 0x0801ae38, 0x0401b267, 0x4801b3cc, 0x4801bef5, 0x0801c325, 0x4801c48a, 0x4401c8b9, 0x4801ca1e}')"
      ]
     },
     "execution_count": 49,
     "metadata": {},
     "output_type": "execute_result"
    }
   ],
   "source": [
    "len(horse_res.split(',')), horse_res"
   ]
  },
  {
   "cell_type": "code",
   "execution_count": 50,
   "id": "54ece456",
   "metadata": {},
   "outputs": [
    {
     "data": {
      "text/plain": [
       "(160,\n",
       " '{0x440017ef, 0x48001960, 0x08001db4, 0x44002097, 0x44002208, 0x04002379, 0x080024ea, 0x0800293e, 0x04002c20, 0x44002d92, 0x04002f03, 0x08003074, 0x480034c8, 0x440037aa, 0x4400391b, 0x44003a8d, 0x08003bfe, 0x48004052, 0x04004334, 0x040044a5, 0x08004617, 0x480048f9, 0x48004bdb, 0x44004ebe, 0x0400502f, 0x080051a0, 0x48005483, 0x48005765, 0x04005a48, 0x04005bb9, 0x48005d2a, 0x0800600d, 0x480062ef, 0x040065d2, 0x04006743, 0x080068b4, 0x08006b97, 0x08006e79, 0x440070a3, 0x0800715b, 0x4800743e, 0x44007720, 0x44007892, 0x48007a03, 0x04007c2d, 0x48007ce5, 0x48007fc8, 0x040082aa, 0x4400841b, 0x4800858d, 0x040087b7, 0x0800886f, 0x48008b52, 0x44008e34, 0x04008fa5, 0x08009117, 0x04009340, 0x080093f9, 0x080096db, 0x040099be, 0x04009b2f, 0x48009ca0, 0x04009eca, 0x08009f83, 0x4400a265, 0x4400a3d7, 0x4400a548, 0x4400a6b9, 0x0800a82a, 0x4400aa54, 0x0800ab0d, 0x4400adef, 0x0400af60, 0x0800b0d2, 0x4400b2fb, 0x4800b3b4, 0x4800b697, 0x0400b979, 0x4400baea, 0x4400bc5b, 0x4400bdcd, 0x4800bf3e, 0x4400c168, 0x0800c220, 0x0400c503, 0x4400c674, 0x0800c7e5, 0x4400ca0f, 0x4800cac8, 0x0800cdaa, 0x4400d08d, 0x4800d1fe, 0x4400d652, 0x4800d7c3, 0x0800dc17, 0x0400de40, 0x4800def9, 0x0800e1db, 0x4400e405, 0x4800e4be, 0x0400e7a0, 0x4800e912, 0x0400ed65, 0x4800eed7, 0x0800f32a, 0x0400f554, 0x4800f60d, 0x4800f8ef, 0x0800fbd2, 0x20012152, 0x44012cdb, 0x44012e4d, 0x04012fbe, 0x4401312f, 0x080132a0, 0x440134ca, 0x48013583, 0x04013865, 0x040139d7, 0x08013b48, 0x44013d72, 0x48013e2a, 0x0801410d, 0x040143ef, 0x44014560, 0x440146d2, 0x04014843, 0x080149b4, 0x44014bde, 0x48014c97, 0x04014f79, 0x440150ea, 0x4801525b, 0x04015485, 0x4801553e, 0x48015820, 0x44015b03, 0x44015c74, 0x44015de5, 0x04015f57, 0x080160c8, 0x040162f2, 0x080163aa, 0x0801668d, 0x040168b7, 0x0801696f, 0x04016c52, 0x04016dc3, 0x08016f34, 0x44017217, 0x44017388, 0x440174f9, 0x0401766a, 0x480177db, 0x04017a05, 0x48017abe, 0x48017da0, 0x44017fca, 0x08018083, 0x44018365}')"
      ]
     },
     "execution_count": 50,
     "metadata": {},
     "output_type": "execute_result"
    }
   ],
   "source": [
    "len(rock_res.split(',')), rock_res"
   ]
  }
 ],
 "metadata": {
  "kernelspec": {
   "display_name": "base",
   "language": "python",
   "name": "python3"
  },
  "language_info": {
   "codemirror_mode": {
    "name": "ipython",
    "version": 3
   },
   "file_extension": ".py",
   "mimetype": "text/x-python",
   "name": "python",
   "nbconvert_exporter": "python",
   "pygments_lexer": "ipython3",
   "version": "3.11.8"
  }
 },
 "nbformat": 4,
 "nbformat_minor": 5
}
