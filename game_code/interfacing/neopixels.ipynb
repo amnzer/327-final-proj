{
 "cells": [
  {
   "cell_type": "markdown",
   "id": "edddf484",
   "metadata": {},
   "source": [
    "# Helper Functions for Interacting with Hardware"
   ]
  },
  {
   "cell_type": "code",
   "execution_count": 12,
   "id": "e02df070",
   "metadata": {},
   "outputs": [],
   "source": [
    "# want to specify RGB\n",
    "# then convert RGB to GBR string\n",
    "# then write that to neopixels format (i.e. 110 or 011)\n",
    "spi_to_neopixel = lambda x: '110' if x=='1' else '100'\n",
    "def rgb_to_neopixel(hexval):\n",
    "  \"\"\"\n",
    "  Convert a hex RGB value to a bitstring in GRB form\n",
    "  \"\"\"\n",
    "  red,green,blue = '0x'+hexval[:2],'0x'+hexval[2:4],'0x'+hexval[5:]\n",
    "  # to hex\n",
    "  redhex, greenhex, bluehex = int(red,16), int(green,16), int(blue,16)\n",
    "  # to binary\n",
    "  redbin, greenbin, bluebin = bin(redhex)[2:].zfill(8), bin(greenhex)[2:].zfill(8), bin(bluehex)[2:].zfill(8)\n",
    "  #print(redbin,greenbin,bluebin)\n",
    "  # to GBR\n",
    "  total_str = greenbin+redbin+bluebin\n",
    "  # neopixel form\n",
    "  out = []\n",
    "  for char in total_str:\n",
    "    out.append(spi_to_neopixel(char))\n",
    "  # ok, now these are the bits. now just smash them together and convert to hex\n",
    "  str_neopixels = ''.join(out)\n",
    "  #print(str_neopixels)\n",
    "  hex_strs = []\n",
    "  for i in range(9): # will always be exactly 9\n",
    "    # get each byte in the greater string\n",
    "    local_byte = str_neopixels[8*i:8*i+8]\n",
    "    # split byte in two (for two hex digits)\n",
    "    bin_group_1,bin_group_2 = '0b'+local_byte[:4],'0b'+local_byte[4:]\n",
    "    hex_str_1, hex_str_2 = hex(int(bin_group_1,2))[2:],hex(int(bin_group_2,2))[2:]\n",
    "    hex_strs.append('0x'+hex_str_1+hex_str_2)    \n",
    "\n",
    "  return '{'+','.join(hex_strs)+'}' # what arrays look like in c\n",
    "  "
   ]
  },
  {
   "cell_type": "code",
   "execution_count": null,
   "id": "52512f68",
   "metadata": {},
   "outputs": [
    {
     "data": {
      "text/plain": [
       "'{0x92,0x49,0x24,0xd3,0x4d,0xb6,0x92,0x49,0x24}'"
      ]
     },
     "execution_count": 15,
     "metadata": {},
     "output_type": "execute_result"
    }
   ],
   "source": [
    "rgb_to_neopixel('ff0000') # legit af"
   ]
  },
  {
   "cell_type": "code",
   "execution_count": 7,
   "id": "130a1314",
   "metadata": {},
   "outputs": [],
   "source": [
    "grid_depth, grid_width = 8,8\n",
    "led_array = [0]*(grid_depth*grid_width)"
   ]
  },
  {
   "cell_type": "code",
   "execution_count": 8,
   "id": "8bb4b780",
   "metadata": {},
   "outputs": [],
   "source": [
    "# the LEDs are in linear sequence.\n",
    "def grid_to_array(led_y,led_x,grid_width):\n",
    "  \"\"\"\n",
    "  Find which LED # is the led at (led_y,led_x) (top left corner is (1,1). bottom right corner: (led_y,led_x))\n",
    "  \"\"\"\n",
    "  return grid_width*(led_y-1)+led_x-1"
   ]
  },
  {
   "cell_type": "code",
   "execution_count": 9,
   "id": "4c9dc1ba",
   "metadata": {},
   "outputs": [
    {
     "ename": "TypeError",
     "evalue": "grid_to_array() takes 3 positional arguments but 4 were given",
     "output_type": "error",
     "traceback": [
      "\u001b[0;31m---------------------------------------------------------------------------\u001b[0m",
      "\u001b[0;31mTypeError\u001b[0m                                 Traceback (most recent call last)",
      "Cell \u001b[0;32mIn[9], line 1\u001b[0m\n\u001b[0;32m----> 1\u001b[0m grid_to_array(led_array, \u001b[38;5;241m2\u001b[39m,\u001b[38;5;241m3\u001b[39m,\u001b[38;5;241m8\u001b[39m)\n",
      "\u001b[0;31mTypeError\u001b[0m: grid_to_array() takes 3 positional arguments but 4 were given"
     ]
    }
   ],
   "source": [
    "grid_to_array(led_array, 2,3,8)"
   ]
  },
  {
   "cell_type": "code",
   "execution_count": null,
   "id": "a8f3cf3c",
   "metadata": {},
   "outputs": [
    {
     "ename": "NameError",
     "evalue": "name 'led_array' is not defined",
     "output_type": "error",
     "traceback": [
      "\u001b[0;31m---------------------------------------------------------------------------\u001b[0m",
      "\u001b[0;31mNameError\u001b[0m                                 Traceback (most recent call last)",
      "Cell \u001b[0;32mIn[1], line 1\u001b[0m\n\u001b[0;32m----> 1\u001b[0m led_array\n",
      "\u001b[0;31mNameError\u001b[0m: name 'led_array' is not defined"
     ]
    }
   ],
   "source": [
    "# the way kemere wrote his boilerplate makes it pretty hard to write to sepcific\n",
    "#"
   ]
  }
 ],
 "metadata": {
  "kernelspec": {
   "display_name": "base",
   "language": "python",
   "name": "python3"
  },
  "language_info": {
   "codemirror_mode": {
    "name": "ipython",
    "version": 3
   },
   "file_extension": ".py",
   "mimetype": "text/x-python",
   "name": "python",
   "nbconvert_exporter": "python",
   "pygments_lexer": "ipython3",
   "version": "3.11.8"
  }
 },
 "nbformat": 4,
 "nbformat_minor": 5
}
